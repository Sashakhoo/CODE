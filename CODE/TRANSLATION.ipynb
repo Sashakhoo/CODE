{
 "cells": [
  {
   "cell_type": "code",
   "execution_count": 2,
   "metadata": {},
   "outputs": [],
   "source": [
    "from googletrans import Translator\n",
    "import pandas as pd"
   ]
  },
  {
   "cell_type": "code",
   "execution_count": 3,
   "metadata": {},
   "outputs": [],
   "source": [
    "headers = ['Title','Lyrics','Title_en','Lyrics_en']\n",
    "data = pd.read_csv('patriotic_dataset.csv')\n",
    "translator = Translator()\n",
    "\n",
    "df = pd.DataFrame(index=range(0,len(data)), columns=headers)"
   ]
  },
  {
   "cell_type": "code",
   "execution_count": 4,
   "metadata": {},
   "outputs": [],
   "source": [
    "def translate_row(row):\n",
    "    ''' Translate elements A and B within `row`. '''\n",
    "    a = translator.translate(row[0], dest='en')\n",
    "    b = translator.translate(row[1], dest='en')\n",
    "    return pd.Series([a.origin, b.origin, a.text, b.text], headers)"
   ]
  },
  {
   "cell_type": "code",
   "execution_count": 5,
   "metadata": {},
   "outputs": [
    {
     "name": "stdout",
     "output_type": "stream",
     "text": [
      "                          Title  \\\n",
      "0                  1988 Bersatu   \n",
      "1                  1989 Bersatu   \n",
      "2                  1990 Berjaya   \n",
      "3             1991 Wawasan 2020   \n",
      "4   1993 Bersatu Menuju Wawasan   \n",
      "..                          ...   \n",
      "59              Bahtera Merdeka   \n",
      "60            Malaysia Tercinta   \n",
      "61                 Aku Negaraku   \n",
      "62                Gemuruh suara   \n",
      "63                      Warisan   \n",
      "\n",
      "                                               Lyrics  \\\n",
      "0   BERSATU.BERSATU BERSATU. BERSATU MENENTANG MUS...   \n",
      "1   BERSATU.BERSATU BERSATU. BERSATU MENENTANG MUS...   \n",
      "2   MALAYSIA KITA SUDAH BERJAYAAMAN MAKMUR BAHAGIA...   \n",
      "3   BENDERA BERKIBAR DI ANGKASALAMBANG NEGARA JAYA...   \n",
      "4   MURNINYA SEBUAH WAWASAN MEMBINA BUDAYA YANG GE...   \n",
      "..                                                ...   \n",
      "59  Bonda senyum riang Menerima bahtera Merdeka Pu...   \n",
      "60  Tanah air tercinta Ibu Pertiwi warisan bangsa ...   \n",
      "61  Ku sedar Tanah air aku bertuah Di sini tempatk...   \n",
      "62  Kalau engkau jatuh,Jangan engkau lemah,Kerana ...   \n",
      "63  Disini lahirnya sebuah cinta Yang murni abadi ...   \n",
      "\n",
      "                      Title_en  \\\n",
      "0                  1988 united   \n",
      "1                  1989 united   \n",
      "2            1990 successfully   \n",
      "3           1991 Insight 2020.   \n",
      "4   1993 unite towards insight   \n",
      "..                         ...   \n",
      "59                 Merdeka ark   \n",
      "60         Malaysia is beloved   \n",
      "61              I'm my country   \n",
      "62                      Rumble   \n",
      "63                      Legacy   \n",
      "\n",
      "                                            Lyrics_en  \n",
      "0   United. Be united.Unite against the enemy of t...  \n",
      "1   United. Be united.Unite against the enemy of t...  \n",
      "2   Malaysia We have succeeded in prosperous Bahag...  \n",
      "3   Flags fluttered in Jayarakyat State of Jayarak...  \n",
      "4   Meanwise a vision of building a glorious cultu...  \n",
      "..                                                ...  \n",
      "59  Bonda Senyum Riang Accepted BANDERA MERDEKA PU...  \n",
      "60  Mother's beloved homeland PERTIWI Heritage Neg...  \n",
      "61  I am aware of my homeland I'm lucky here my pl...  \n",
      "62  If you fall, do not be weak, because life teac...  \n",
      "63  His birth was a real pure love Here's a desire...  \n",
      "\n",
      "[64 rows x 4 columns]\n"
     ]
    }
   ],
   "source": [
    "for i, row in enumerate(data.values):\n",
    "    # Fill empty dataframe with given series.\n",
    "    df.loc[i] = translate_row(row)\n",
    "\n",
    "print(df)"
   ]
  },
  {
   "cell_type": "code",
   "execution_count": null,
   "metadata": {},
   "outputs": [],
   "source": []
  }
 ],
 "metadata": {
  "interpreter": {
   "hash": "e1fc5dbb2751858e032a8d603e645a47dd8a4c5f04a049a97a76ebf32f9aa720"
  },
  "kernelspec": {
   "display_name": "Python 3.7.11 64-bit ('el': conda)",
   "language": "python",
   "name": "python3"
  },
  "language_info": {
   "codemirror_mode": {
    "name": "ipython",
    "version": 3
   },
   "file_extension": ".py",
   "mimetype": "text/x-python",
   "name": "python",
   "nbconvert_exporter": "python",
   "pygments_lexer": "ipython3",
   "version": "3.7.11"
  },
  "orig_nbformat": 4
 },
 "nbformat": 4,
 "nbformat_minor": 2
}
