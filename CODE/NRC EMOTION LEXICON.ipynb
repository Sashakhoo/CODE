{
 "cells": [
  {
   "cell_type": "code",
   "execution_count": 22,
   "metadata": {},
   "outputs": [
    {
     "name": "stderr",
     "output_type": "stream",
     "text": [
      "[nltk_data] Downloading package omw-1.4 to\n",
      "[nltk_data]     C:\\Users\\user\\AppData\\Roaming\\nltk_data...\n",
      "[nltk_data]   Package omw-1.4 is already up-to-date!\n",
      "[nltk_data] Downloading package punkt to\n",
      "[nltk_data]     C:\\Users\\user\\AppData\\Roaming\\nltk_data...\n",
      "[nltk_data]   Package punkt is already up-to-date!\n",
      "[nltk_data] Downloading package stopwords to\n",
      "[nltk_data]     C:\\Users\\user\\AppData\\Roaming\\nltk_data...\n",
      "[nltk_data]   Package stopwords is already up-to-date!\n",
      "[nltk_data] Downloading package wordnet to\n",
      "[nltk_data]     C:\\Users\\user\\AppData\\Roaming\\nltk_data...\n",
      "[nltk_data]   Package wordnet is already up-to-date!\n"
     ]
    }
   ],
   "source": [
    "import numpy as np\n",
    "import pandas as pd \n",
    "import string as st\n",
    "import sklearn\n",
    "import regex as re\n",
    "import nltk\n",
    "nltk.download('omw-1.4')\n",
    "nltk.download('punkt')\n",
    "nltk.download('stopwords')\n",
    "nltk.download('wordnet')\n",
    "from nltk import WordNetLemmatizer\n",
    "import googletrans\n",
    "from googletrans import Translator\n",
    "from nrclex import NRCLex\n",
    "import plotly.express as px\n",
    "import matplotlib.pyplot as plt\n",
    "pd.options.plotting.backend = \"plotly\"\n",
    "from sklearn.feature_extraction.text import TfidfVectorizer\n",
    "from sklearn import model_selection, naive_bayes, svm\n",
    "from sklearn.metrics import accuracy_score, classification_report\n",
    "import seaborn as sns"
   ]
  },
  {
   "cell_type": "code",
   "execution_count": 23,
   "metadata": {},
   "outputs": [],
   "source": [
    "# Read Raw Dataset\n",
    "df = pd.read_csv('anthems.csv',encoding='latin-1')"
   ]
  },
  {
   "cell_type": "code",
   "execution_count": 24,
   "metadata": {},
   "outputs": [
    {
     "name": "stdout",
     "output_type": "stream",
     "text": [
      "<class 'pandas.core.frame.DataFrame'>\n",
      "RangeIndex: 190 entries, 0 to 189\n",
      "Data columns (total 5 columns):\n",
      " #   Column     Non-Null Count  Dtype \n",
      "---  ------     --------------  ----- \n",
      " 0   Country    190 non-null    object\n",
      " 1   Alpha-2    189 non-null    object\n",
      " 2   Alpha-3    190 non-null    object\n",
      " 3   Continent  190 non-null    object\n",
      " 4   Anthem     190 non-null    object\n",
      "dtypes: object(5)\n",
      "memory usage: 7.5+ KB\n"
     ]
    },
    {
     "data": {
      "text/html": [
       "<div>\n",
       "<style scoped>\n",
       "    .dataframe tbody tr th:only-of-type {\n",
       "        vertical-align: middle;\n",
       "    }\n",
       "\n",
       "    .dataframe tbody tr th {\n",
       "        vertical-align: top;\n",
       "    }\n",
       "\n",
       "    .dataframe thead th {\n",
       "        text-align: right;\n",
       "    }\n",
       "</style>\n",
       "<table border=\"1\" class=\"dataframe\">\n",
       "  <thead>\n",
       "    <tr style=\"text-align: right;\">\n",
       "      <th></th>\n",
       "      <th>Country</th>\n",
       "      <th>Alpha-2</th>\n",
       "      <th>Alpha-3</th>\n",
       "      <th>Continent</th>\n",
       "      <th>Anthem</th>\n",
       "    </tr>\n",
       "  </thead>\n",
       "  <tbody>\n",
       "    <tr>\n",
       "      <th>0</th>\n",
       "      <td>Albania</td>\n",
       "      <td>AL</td>\n",
       "      <td>ALB</td>\n",
       "      <td>Europe</td>\n",
       "      <td>Around our flag we stand united, With one wish...</td>\n",
       "    </tr>\n",
       "    <tr>\n",
       "      <th>1</th>\n",
       "      <td>Armenia</td>\n",
       "      <td>AM</td>\n",
       "      <td>ARM</td>\n",
       "      <td>Europe</td>\n",
       "      <td>Our Fatherland, free, independent, That has fo...</td>\n",
       "    </tr>\n",
       "    <tr>\n",
       "      <th>2</th>\n",
       "      <td>Austria</td>\n",
       "      <td>AT</td>\n",
       "      <td>AUT</td>\n",
       "      <td>Europe</td>\n",
       "      <td>Land of mountains, land by the river, Land of ...</td>\n",
       "    </tr>\n",
       "    <tr>\n",
       "      <th>3</th>\n",
       "      <td>Azerbaijan</td>\n",
       "      <td>AZ</td>\n",
       "      <td>AZE</td>\n",
       "      <td>Europe</td>\n",
       "      <td>Azerbaijan, Azerbaijan! The glorious Fatherlan...</td>\n",
       "    </tr>\n",
       "    <tr>\n",
       "      <th>4</th>\n",
       "      <td>Belarus</td>\n",
       "      <td>BY</td>\n",
       "      <td>BLR</td>\n",
       "      <td>Europe</td>\n",
       "      <td>We, Belarusians, are peaceful people, Wholehea...</td>\n",
       "    </tr>\n",
       "  </tbody>\n",
       "</table>\n",
       "</div>"
      ],
      "text/plain": [
       "      Country Alpha-2 Alpha-3 Continent  \\\n",
       "0     Albania      AL     ALB    Europe   \n",
       "1     Armenia      AM     ARM    Europe   \n",
       "2     Austria      AT     AUT    Europe   \n",
       "3  Azerbaijan      AZ     AZE    Europe   \n",
       "4     Belarus      BY     BLR    Europe   \n",
       "\n",
       "                                              Anthem  \n",
       "0  Around our flag we stand united, With one wish...  \n",
       "1  Our Fatherland, free, independent, That has fo...  \n",
       "2  Land of mountains, land by the river, Land of ...  \n",
       "3  Azerbaijan, Azerbaijan! The glorious Fatherlan...  \n",
       "4  We, Belarusians, are peaceful people, Wholehea...  "
      ]
     },
     "execution_count": 24,
     "metadata": {},
     "output_type": "execute_result"
    }
   ],
   "source": [
    "df.info()\n",
    "df.head()"
   ]
  },
  {
   "cell_type": "code",
   "execution_count": 25,
   "metadata": {},
   "outputs": [
    {
     "data": {
      "text/plain": [
       "(190, 5)"
      ]
     },
     "execution_count": 25,
     "metadata": {},
     "output_type": "execute_result"
    }
   ],
   "source": [
    "df.shape"
   ]
  },
  {
   "cell_type": "code",
   "execution_count": 26,
   "metadata": {},
   "outputs": [
    {
     "data": {
      "text/plain": [
       "Country      0\n",
       "Alpha-2      1\n",
       "Alpha-3      0\n",
       "Continent    0\n",
       "Anthem       0\n",
       "dtype: int64"
      ]
     },
     "execution_count": 26,
     "metadata": {},
     "output_type": "execute_result"
    }
   ],
   "source": [
    "df.isnull().sum()"
   ]
  },
  {
   "cell_type": "code",
   "execution_count": 27,
   "metadata": {},
   "outputs": [
    {
     "data": {
      "text/plain": [
       "Country      190\n",
       "Alpha-2      188\n",
       "Alpha-3      190\n",
       "Continent      6\n",
       "Anthem       188\n",
       "dtype: int64"
      ]
     },
     "execution_count": 27,
     "metadata": {},
     "output_type": "execute_result"
    }
   ],
   "source": [
    "df.nunique()"
   ]
  },
  {
   "cell_type": "markdown",
   "metadata": {},
   "source": [
    "> Translate dataset"
   ]
  },
  {
   "cell_type": "code",
   "execution_count": 28,
   "metadata": {},
   "outputs": [],
   "source": [
    "# headers = ['Title','Lyrics','Title_en','Lyrics_en']\n",
    "# data = pd.read_csv('anthems.csv')\n",
    "# translator = Translator()\n",
    "\n",
    "# df = pd.DataFrame(index=range(0,len(data)), columns=headers)"
   ]
  },
  {
   "cell_type": "code",
   "execution_count": 29,
   "metadata": {},
   "outputs": [],
   "source": [
    "# def translate_row(row):\n",
    "#     ''' Translate elements A and B within `row`. '''\n",
    "#     a = translator.translate(row[0], dest='en')\n",
    "#     b = translator.translate(row[1], dest='en')\n",
    "#     return pd.Series([a.origin, b.origin, a.text, b.text], headers)"
   ]
  },
  {
   "cell_type": "code",
   "execution_count": 30,
   "metadata": {},
   "outputs": [],
   "source": [
    "# for i, row in enumerate(data.values):\n",
    "#     # Fill empty dataframe with given series\n",
    "#     df.loc[i] = translate_row(row)\n",
    "\n",
    "# print(df)"
   ]
  },
  {
   "cell_type": "markdown",
   "metadata": {},
   "source": [
    "> Text Cleaning and Processing\n",
    "- Remove punctuations\n",
    "- Tokenization\n",
    "- Stop Words removal \n",
    "- Lemmetization"
   ]
  },
  {
   "cell_type": "code",
   "execution_count": 31,
   "metadata": {},
   "outputs": [],
   "source": [
    "def remove_punct(text):\n",
    "    return(\"\".join([ch for ch in text if ch not in st.punctuation]))"
   ]
  },
  {
   "cell_type": "code",
   "execution_count": 32,
   "metadata": {},
   "outputs": [
    {
     "data": {
      "text/html": [
       "<div>\n",
       "<style scoped>\n",
       "    .dataframe tbody tr th:only-of-type {\n",
       "        vertical-align: middle;\n",
       "    }\n",
       "\n",
       "    .dataframe tbody tr th {\n",
       "        vertical-align: top;\n",
       "    }\n",
       "\n",
       "    .dataframe thead th {\n",
       "        text-align: right;\n",
       "    }\n",
       "</style>\n",
       "<table border=\"1\" class=\"dataframe\">\n",
       "  <thead>\n",
       "    <tr style=\"text-align: right;\">\n",
       "      <th></th>\n",
       "      <th>Country</th>\n",
       "      <th>Alpha-2</th>\n",
       "      <th>Alpha-3</th>\n",
       "      <th>Continent</th>\n",
       "      <th>Anthem</th>\n",
       "      <th>removed_punct</th>\n",
       "    </tr>\n",
       "  </thead>\n",
       "  <tbody>\n",
       "    <tr>\n",
       "      <th>0</th>\n",
       "      <td>Albania</td>\n",
       "      <td>AL</td>\n",
       "      <td>ALB</td>\n",
       "      <td>Europe</td>\n",
       "      <td>Around our flag we stand united, With one wish...</td>\n",
       "      <td>Around our flag we stand united With one wish ...</td>\n",
       "    </tr>\n",
       "    <tr>\n",
       "      <th>1</th>\n",
       "      <td>Armenia</td>\n",
       "      <td>AM</td>\n",
       "      <td>ARM</td>\n",
       "      <td>Europe</td>\n",
       "      <td>Our Fatherland, free, independent, That has fo...</td>\n",
       "      <td>Our Fatherland free independent That has for c...</td>\n",
       "    </tr>\n",
       "    <tr>\n",
       "      <th>2</th>\n",
       "      <td>Austria</td>\n",
       "      <td>AT</td>\n",
       "      <td>AUT</td>\n",
       "      <td>Europe</td>\n",
       "      <td>Land of mountains, land by the river, Land of ...</td>\n",
       "      <td>Land of mountains land by the river Land of fi...</td>\n",
       "    </tr>\n",
       "    <tr>\n",
       "      <th>3</th>\n",
       "      <td>Azerbaijan</td>\n",
       "      <td>AZ</td>\n",
       "      <td>AZE</td>\n",
       "      <td>Europe</td>\n",
       "      <td>Azerbaijan, Azerbaijan! The glorious Fatherlan...</td>\n",
       "      <td>Azerbaijan Azerbaijan The glorious Fatherland ...</td>\n",
       "    </tr>\n",
       "    <tr>\n",
       "      <th>4</th>\n",
       "      <td>Belarus</td>\n",
       "      <td>BY</td>\n",
       "      <td>BLR</td>\n",
       "      <td>Europe</td>\n",
       "      <td>We, Belarusians, are peaceful people, Wholehea...</td>\n",
       "      <td>We Belarusians are peaceful people Wholehearte...</td>\n",
       "    </tr>\n",
       "  </tbody>\n",
       "</table>\n",
       "</div>"
      ],
      "text/plain": [
       "      Country Alpha-2 Alpha-3 Continent  \\\n",
       "0     Albania      AL     ALB    Europe   \n",
       "1     Armenia      AM     ARM    Europe   \n",
       "2     Austria      AT     AUT    Europe   \n",
       "3  Azerbaijan      AZ     AZE    Europe   \n",
       "4     Belarus      BY     BLR    Europe   \n",
       "\n",
       "                                              Anthem  \\\n",
       "0  Around our flag we stand united, With one wish...   \n",
       "1  Our Fatherland, free, independent, That has fo...   \n",
       "2  Land of mountains, land by the river, Land of ...   \n",
       "3  Azerbaijan, Azerbaijan! The glorious Fatherlan...   \n",
       "4  We, Belarusians, are peaceful people, Wholehea...   \n",
       "\n",
       "                                       removed_punct  \n",
       "0  Around our flag we stand united With one wish ...  \n",
       "1  Our Fatherland free independent That has for c...  \n",
       "2  Land of mountains land by the river Land of fi...  \n",
       "3  Azerbaijan Azerbaijan The glorious Fatherland ...  \n",
       "4  We Belarusians are peaceful people Wholehearte...  "
      ]
     },
     "execution_count": 32,
     "metadata": {},
     "output_type": "execute_result"
    }
   ],
   "source": [
    "df['removed_punct'] = df['Anthem'].apply(lambda x: remove_punct(x))\n",
    "df.head()"
   ]
  },
  {
   "cell_type": "code",
   "execution_count": 33,
   "metadata": {},
   "outputs": [],
   "source": [
    "def tokenize(text):\n",
    "    text = re.split('\\s+',text)\n",
    "    return[x.lower() for x in text]"
   ]
  },
  {
   "cell_type": "code",
   "execution_count": 34,
   "metadata": {},
   "outputs": [
    {
     "data": {
      "text/html": [
       "<div>\n",
       "<style scoped>\n",
       "    .dataframe tbody tr th:only-of-type {\n",
       "        vertical-align: middle;\n",
       "    }\n",
       "\n",
       "    .dataframe tbody tr th {\n",
       "        vertical-align: top;\n",
       "    }\n",
       "\n",
       "    .dataframe thead th {\n",
       "        text-align: right;\n",
       "    }\n",
       "</style>\n",
       "<table border=\"1\" class=\"dataframe\">\n",
       "  <thead>\n",
       "    <tr style=\"text-align: right;\">\n",
       "      <th></th>\n",
       "      <th>Country</th>\n",
       "      <th>Alpha-2</th>\n",
       "      <th>Alpha-3</th>\n",
       "      <th>Continent</th>\n",
       "      <th>Anthem</th>\n",
       "      <th>removed_punct</th>\n",
       "      <th>tokens</th>\n",
       "    </tr>\n",
       "  </thead>\n",
       "  <tbody>\n",
       "    <tr>\n",
       "      <th>0</th>\n",
       "      <td>Albania</td>\n",
       "      <td>AL</td>\n",
       "      <td>ALB</td>\n",
       "      <td>Europe</td>\n",
       "      <td>Around our flag we stand united, With one wish...</td>\n",
       "      <td>Around our flag we stand united With one wish ...</td>\n",
       "      <td>[around, our, flag, we, stand, united, with, o...</td>\n",
       "    </tr>\n",
       "    <tr>\n",
       "      <th>1</th>\n",
       "      <td>Armenia</td>\n",
       "      <td>AM</td>\n",
       "      <td>ARM</td>\n",
       "      <td>Europe</td>\n",
       "      <td>Our Fatherland, free, independent, That has fo...</td>\n",
       "      <td>Our Fatherland free independent That has for c...</td>\n",
       "      <td>[our, fatherland, free, independent, that, has...</td>\n",
       "    </tr>\n",
       "    <tr>\n",
       "      <th>2</th>\n",
       "      <td>Austria</td>\n",
       "      <td>AT</td>\n",
       "      <td>AUT</td>\n",
       "      <td>Europe</td>\n",
       "      <td>Land of mountains, land by the river, Land of ...</td>\n",
       "      <td>Land of mountains land by the river Land of fi...</td>\n",
       "      <td>[land, of, mountains, land, by, the, river, la...</td>\n",
       "    </tr>\n",
       "    <tr>\n",
       "      <th>3</th>\n",
       "      <td>Azerbaijan</td>\n",
       "      <td>AZ</td>\n",
       "      <td>AZE</td>\n",
       "      <td>Europe</td>\n",
       "      <td>Azerbaijan, Azerbaijan! The glorious Fatherlan...</td>\n",
       "      <td>Azerbaijan Azerbaijan The glorious Fatherland ...</td>\n",
       "      <td>[azerbaijan, azerbaijan, the, glorious, father...</td>\n",
       "    </tr>\n",
       "    <tr>\n",
       "      <th>4</th>\n",
       "      <td>Belarus</td>\n",
       "      <td>BY</td>\n",
       "      <td>BLR</td>\n",
       "      <td>Europe</td>\n",
       "      <td>We, Belarusians, are peaceful people, Wholehea...</td>\n",
       "      <td>We Belarusians are peaceful people Wholehearte...</td>\n",
       "      <td>[we, belarusians, are, peaceful, people, whole...</td>\n",
       "    </tr>\n",
       "  </tbody>\n",
       "</table>\n",
       "</div>"
      ],
      "text/plain": [
       "      Country Alpha-2 Alpha-3 Continent  \\\n",
       "0     Albania      AL     ALB    Europe   \n",
       "1     Armenia      AM     ARM    Europe   \n",
       "2     Austria      AT     AUT    Europe   \n",
       "3  Azerbaijan      AZ     AZE    Europe   \n",
       "4     Belarus      BY     BLR    Europe   \n",
       "\n",
       "                                              Anthem  \\\n",
       "0  Around our flag we stand united, With one wish...   \n",
       "1  Our Fatherland, free, independent, That has fo...   \n",
       "2  Land of mountains, land by the river, Land of ...   \n",
       "3  Azerbaijan, Azerbaijan! The glorious Fatherlan...   \n",
       "4  We, Belarusians, are peaceful people, Wholehea...   \n",
       "\n",
       "                                       removed_punct  \\\n",
       "0  Around our flag we stand united With one wish ...   \n",
       "1  Our Fatherland free independent That has for c...   \n",
       "2  Land of mountains land by the river Land of fi...   \n",
       "3  Azerbaijan Azerbaijan The glorious Fatherland ...   \n",
       "4  We Belarusians are peaceful people Wholehearte...   \n",
       "\n",
       "                                              tokens  \n",
       "0  [around, our, flag, we, stand, united, with, o...  \n",
       "1  [our, fatherland, free, independent, that, has...  \n",
       "2  [land, of, mountains, land, by, the, river, la...  \n",
       "3  [azerbaijan, azerbaijan, the, glorious, father...  \n",
       "4  [we, belarusians, are, peaceful, people, whole...  "
      ]
     },
     "execution_count": 34,
     "metadata": {},
     "output_type": "execute_result"
    }
   ],
   "source": [
    "df['tokens'] = df['removed_punct'].apply(lambda msg : tokenize(msg))\n",
    "df.head()"
   ]
  },
  {
   "cell_type": "code",
   "execution_count": 35,
   "metadata": {},
   "outputs": [],
   "source": [
    "#Removing stopwords\n",
    "def remove_stopwords(text):\n",
    "    return [word for word in text if word not in nltk.corpus.stopwords.words('english')]"
   ]
  },
  {
   "cell_type": "code",
   "execution_count": 36,
   "metadata": {},
   "outputs": [
    {
     "data": {
      "text/html": [
       "<div>\n",
       "<style scoped>\n",
       "    .dataframe tbody tr th:only-of-type {\n",
       "        vertical-align: middle;\n",
       "    }\n",
       "\n",
       "    .dataframe tbody tr th {\n",
       "        vertical-align: top;\n",
       "    }\n",
       "\n",
       "    .dataframe thead th {\n",
       "        text-align: right;\n",
       "    }\n",
       "</style>\n",
       "<table border=\"1\" class=\"dataframe\">\n",
       "  <thead>\n",
       "    <tr style=\"text-align: right;\">\n",
       "      <th></th>\n",
       "      <th>Country</th>\n",
       "      <th>Alpha-2</th>\n",
       "      <th>Alpha-3</th>\n",
       "      <th>Continent</th>\n",
       "      <th>Anthem</th>\n",
       "      <th>removed_punct</th>\n",
       "      <th>tokens</th>\n",
       "      <th>clean_tokens</th>\n",
       "    </tr>\n",
       "  </thead>\n",
       "  <tbody>\n",
       "    <tr>\n",
       "      <th>0</th>\n",
       "      <td>Albania</td>\n",
       "      <td>AL</td>\n",
       "      <td>ALB</td>\n",
       "      <td>Europe</td>\n",
       "      <td>Around our flag we stand united, With one wish...</td>\n",
       "      <td>Around our flag we stand united With one wish ...</td>\n",
       "      <td>[around, our, flag, we, stand, united, with, o...</td>\n",
       "      <td>[around, flag, stand, united, one, wish, one, ...</td>\n",
       "    </tr>\n",
       "    <tr>\n",
       "      <th>1</th>\n",
       "      <td>Armenia</td>\n",
       "      <td>AM</td>\n",
       "      <td>ARM</td>\n",
       "      <td>Europe</td>\n",
       "      <td>Our Fatherland, free, independent, That has fo...</td>\n",
       "      <td>Our Fatherland free independent That has for c...</td>\n",
       "      <td>[our, fatherland, free, independent, that, has...</td>\n",
       "      <td>[fatherland, free, independent, centuries, liv...</td>\n",
       "    </tr>\n",
       "    <tr>\n",
       "      <th>2</th>\n",
       "      <td>Austria</td>\n",
       "      <td>AT</td>\n",
       "      <td>AUT</td>\n",
       "      <td>Europe</td>\n",
       "      <td>Land of mountains, land by the river, Land of ...</td>\n",
       "      <td>Land of mountains land by the river Land of fi...</td>\n",
       "      <td>[land, of, mountains, land, by, the, river, la...</td>\n",
       "      <td>[land, mountains, land, river, land, fields, l...</td>\n",
       "    </tr>\n",
       "    <tr>\n",
       "      <th>3</th>\n",
       "      <td>Azerbaijan</td>\n",
       "      <td>AZ</td>\n",
       "      <td>AZE</td>\n",
       "      <td>Europe</td>\n",
       "      <td>Azerbaijan, Azerbaijan! The glorious Fatherlan...</td>\n",
       "      <td>Azerbaijan Azerbaijan The glorious Fatherland ...</td>\n",
       "      <td>[azerbaijan, azerbaijan, the, glorious, father...</td>\n",
       "      <td>[azerbaijan, azerbaijan, glorious, fatherland,...</td>\n",
       "    </tr>\n",
       "    <tr>\n",
       "      <th>4</th>\n",
       "      <td>Belarus</td>\n",
       "      <td>BY</td>\n",
       "      <td>BLR</td>\n",
       "      <td>Europe</td>\n",
       "      <td>We, Belarusians, are peaceful people, Wholehea...</td>\n",
       "      <td>We Belarusians are peaceful people Wholehearte...</td>\n",
       "      <td>[we, belarusians, are, peaceful, people, whole...</td>\n",
       "      <td>[belarusians, peaceful, people, wholeheartedly...</td>\n",
       "    </tr>\n",
       "  </tbody>\n",
       "</table>\n",
       "</div>"
      ],
      "text/plain": [
       "      Country Alpha-2 Alpha-3 Continent  \\\n",
       "0     Albania      AL     ALB    Europe   \n",
       "1     Armenia      AM     ARM    Europe   \n",
       "2     Austria      AT     AUT    Europe   \n",
       "3  Azerbaijan      AZ     AZE    Europe   \n",
       "4     Belarus      BY     BLR    Europe   \n",
       "\n",
       "                                              Anthem  \\\n",
       "0  Around our flag we stand united, With one wish...   \n",
       "1  Our Fatherland, free, independent, That has fo...   \n",
       "2  Land of mountains, land by the river, Land of ...   \n",
       "3  Azerbaijan, Azerbaijan! The glorious Fatherlan...   \n",
       "4  We, Belarusians, are peaceful people, Wholehea...   \n",
       "\n",
       "                                       removed_punct  \\\n",
       "0  Around our flag we stand united With one wish ...   \n",
       "1  Our Fatherland free independent That has for c...   \n",
       "2  Land of mountains land by the river Land of fi...   \n",
       "3  Azerbaijan Azerbaijan The glorious Fatherland ...   \n",
       "4  We Belarusians are peaceful people Wholehearte...   \n",
       "\n",
       "                                              tokens  \\\n",
       "0  [around, our, flag, we, stand, united, with, o...   \n",
       "1  [our, fatherland, free, independent, that, has...   \n",
       "2  [land, of, mountains, land, by, the, river, la...   \n",
       "3  [azerbaijan, azerbaijan, the, glorious, father...   \n",
       "4  [we, belarusians, are, peaceful, people, whole...   \n",
       "\n",
       "                                        clean_tokens  \n",
       "0  [around, flag, stand, united, one, wish, one, ...  \n",
       "1  [fatherland, free, independent, centuries, liv...  \n",
       "2  [land, mountains, land, river, land, fields, l...  \n",
       "3  [azerbaijan, azerbaijan, glorious, fatherland,...  \n",
       "4  [belarusians, peaceful, people, wholeheartedly...  "
      ]
     },
     "execution_count": 36,
     "metadata": {},
     "output_type": "execute_result"
    }
   ],
   "source": [
    "df['clean_tokens'] = df['tokens'].apply(lambda x: remove_stopwords(x))\n",
    "df.head()"
   ]
  },
  {
   "cell_type": "code",
   "execution_count": 37,
   "metadata": {},
   "outputs": [],
   "source": [
    "# Apply lemmetization on tokens\n",
    "def lemmatize (text):\n",
    "    word_net = WordNetLemmatizer()\n",
    "    return [word_net.lemmatize(word) for word in text]"
   ]
  },
  {
   "cell_type": "code",
   "execution_count": 38,
   "metadata": {},
   "outputs": [
    {
     "data": {
      "text/html": [
       "<div>\n",
       "<style scoped>\n",
       "    .dataframe tbody tr th:only-of-type {\n",
       "        vertical-align: middle;\n",
       "    }\n",
       "\n",
       "    .dataframe tbody tr th {\n",
       "        vertical-align: top;\n",
       "    }\n",
       "\n",
       "    .dataframe thead th {\n",
       "        text-align: right;\n",
       "    }\n",
       "</style>\n",
       "<table border=\"1\" class=\"dataframe\">\n",
       "  <thead>\n",
       "    <tr style=\"text-align: right;\">\n",
       "      <th></th>\n",
       "      <th>Country</th>\n",
       "      <th>Alpha-2</th>\n",
       "      <th>Alpha-3</th>\n",
       "      <th>Continent</th>\n",
       "      <th>Anthem</th>\n",
       "      <th>removed_punct</th>\n",
       "      <th>tokens</th>\n",
       "      <th>clean_tokens</th>\n",
       "      <th>lemma_words</th>\n",
       "    </tr>\n",
       "  </thead>\n",
       "  <tbody>\n",
       "    <tr>\n",
       "      <th>0</th>\n",
       "      <td>Albania</td>\n",
       "      <td>AL</td>\n",
       "      <td>ALB</td>\n",
       "      <td>Europe</td>\n",
       "      <td>Around our flag we stand united, With one wish...</td>\n",
       "      <td>Around our flag we stand united With one wish ...</td>\n",
       "      <td>[around, our, flag, we, stand, united, with, o...</td>\n",
       "      <td>[around, flag, stand, united, one, wish, one, ...</td>\n",
       "      <td>[around, flag, stand, united, one, wish, one, ...</td>\n",
       "    </tr>\n",
       "    <tr>\n",
       "      <th>1</th>\n",
       "      <td>Armenia</td>\n",
       "      <td>AM</td>\n",
       "      <td>ARM</td>\n",
       "      <td>Europe</td>\n",
       "      <td>Our Fatherland, free, independent, That has fo...</td>\n",
       "      <td>Our Fatherland free independent That has for c...</td>\n",
       "      <td>[our, fatherland, free, independent, that, has...</td>\n",
       "      <td>[fatherland, free, independent, centuries, liv...</td>\n",
       "      <td>[fatherland, free, independent, century, lived...</td>\n",
       "    </tr>\n",
       "    <tr>\n",
       "      <th>2</th>\n",
       "      <td>Austria</td>\n",
       "      <td>AT</td>\n",
       "      <td>AUT</td>\n",
       "      <td>Europe</td>\n",
       "      <td>Land of mountains, land by the river, Land of ...</td>\n",
       "      <td>Land of mountains land by the river Land of fi...</td>\n",
       "      <td>[land, of, mountains, land, by, the, river, la...</td>\n",
       "      <td>[land, mountains, land, river, land, fields, l...</td>\n",
       "      <td>[land, mountain, land, river, land, field, lan...</td>\n",
       "    </tr>\n",
       "    <tr>\n",
       "      <th>3</th>\n",
       "      <td>Azerbaijan</td>\n",
       "      <td>AZ</td>\n",
       "      <td>AZE</td>\n",
       "      <td>Europe</td>\n",
       "      <td>Azerbaijan, Azerbaijan! The glorious Fatherlan...</td>\n",
       "      <td>Azerbaijan Azerbaijan The glorious Fatherland ...</td>\n",
       "      <td>[azerbaijan, azerbaijan, the, glorious, father...</td>\n",
       "      <td>[azerbaijan, azerbaijan, glorious, fatherland,...</td>\n",
       "      <td>[azerbaijan, azerbaijan, glorious, fatherland,...</td>\n",
       "    </tr>\n",
       "    <tr>\n",
       "      <th>4</th>\n",
       "      <td>Belarus</td>\n",
       "      <td>BY</td>\n",
       "      <td>BLR</td>\n",
       "      <td>Europe</td>\n",
       "      <td>We, Belarusians, are peaceful people, Wholehea...</td>\n",
       "      <td>We Belarusians are peaceful people Wholehearte...</td>\n",
       "      <td>[we, belarusians, are, peaceful, people, whole...</td>\n",
       "      <td>[belarusians, peaceful, people, wholeheartedly...</td>\n",
       "      <td>[belarusian, peaceful, people, wholeheartedly,...</td>\n",
       "    </tr>\n",
       "  </tbody>\n",
       "</table>\n",
       "</div>"
      ],
      "text/plain": [
       "      Country Alpha-2 Alpha-3 Continent  \\\n",
       "0     Albania      AL     ALB    Europe   \n",
       "1     Armenia      AM     ARM    Europe   \n",
       "2     Austria      AT     AUT    Europe   \n",
       "3  Azerbaijan      AZ     AZE    Europe   \n",
       "4     Belarus      BY     BLR    Europe   \n",
       "\n",
       "                                              Anthem  \\\n",
       "0  Around our flag we stand united, With one wish...   \n",
       "1  Our Fatherland, free, independent, That has fo...   \n",
       "2  Land of mountains, land by the river, Land of ...   \n",
       "3  Azerbaijan, Azerbaijan! The glorious Fatherlan...   \n",
       "4  We, Belarusians, are peaceful people, Wholehea...   \n",
       "\n",
       "                                       removed_punct  \\\n",
       "0  Around our flag we stand united With one wish ...   \n",
       "1  Our Fatherland free independent That has for c...   \n",
       "2  Land of mountains land by the river Land of fi...   \n",
       "3  Azerbaijan Azerbaijan The glorious Fatherland ...   \n",
       "4  We Belarusians are peaceful people Wholehearte...   \n",
       "\n",
       "                                              tokens  \\\n",
       "0  [around, our, flag, we, stand, united, with, o...   \n",
       "1  [our, fatherland, free, independent, that, has...   \n",
       "2  [land, of, mountains, land, by, the, river, la...   \n",
       "3  [azerbaijan, azerbaijan, the, glorious, father...   \n",
       "4  [we, belarusians, are, peaceful, people, whole...   \n",
       "\n",
       "                                        clean_tokens  \\\n",
       "0  [around, flag, stand, united, one, wish, one, ...   \n",
       "1  [fatherland, free, independent, centuries, liv...   \n",
       "2  [land, mountains, land, river, land, fields, l...   \n",
       "3  [azerbaijan, azerbaijan, glorious, fatherland,...   \n",
       "4  [belarusians, peaceful, people, wholeheartedly...   \n",
       "\n",
       "                                         lemma_words  \n",
       "0  [around, flag, stand, united, one, wish, one, ...  \n",
       "1  [fatherland, free, independent, century, lived...  \n",
       "2  [land, mountain, land, river, land, field, lan...  \n",
       "3  [azerbaijan, azerbaijan, glorious, fatherland,...  \n",
       "4  [belarusian, peaceful, people, wholeheartedly,...  "
      ]
     },
     "execution_count": 38,
     "metadata": {},
     "output_type": "execute_result"
    }
   ],
   "source": [
    "df['lemma_words'] = df['clean_tokens'].apply(lambda x : lemmatize(x))\n",
    "df.head()"
   ]
  },
  {
   "cell_type": "code",
   "execution_count": 39,
   "metadata": {},
   "outputs": [],
   "source": [
    "# create sentences to get clean text as input for vectors\n",
    "def return_sentences(tokens):\n",
    "    return \" \".join([word for word in tokens])"
   ]
  },
  {
   "cell_type": "code",
   "execution_count": 40,
   "metadata": {},
   "outputs": [
    {
     "data": {
      "text/html": [
       "<div>\n",
       "<style scoped>\n",
       "    .dataframe tbody tr th:only-of-type {\n",
       "        vertical-align: middle;\n",
       "    }\n",
       "\n",
       "    .dataframe tbody tr th {\n",
       "        vertical-align: top;\n",
       "    }\n",
       "\n",
       "    .dataframe thead th {\n",
       "        text-align: right;\n",
       "    }\n",
       "</style>\n",
       "<table border=\"1\" class=\"dataframe\">\n",
       "  <thead>\n",
       "    <tr style=\"text-align: right;\">\n",
       "      <th></th>\n",
       "      <th>Country</th>\n",
       "      <th>Alpha-2</th>\n",
       "      <th>Alpha-3</th>\n",
       "      <th>Continent</th>\n",
       "      <th>Anthem</th>\n",
       "      <th>removed_punct</th>\n",
       "      <th>tokens</th>\n",
       "      <th>clean_tokens</th>\n",
       "      <th>lemma_words</th>\n",
       "      <th>clean_text</th>\n",
       "    </tr>\n",
       "  </thead>\n",
       "  <tbody>\n",
       "    <tr>\n",
       "      <th>0</th>\n",
       "      <td>Albania</td>\n",
       "      <td>AL</td>\n",
       "      <td>ALB</td>\n",
       "      <td>Europe</td>\n",
       "      <td>Around our flag we stand united, With one wish...</td>\n",
       "      <td>Around our flag we stand united With one wish ...</td>\n",
       "      <td>[around, our, flag, we, stand, united, with, o...</td>\n",
       "      <td>[around, flag, stand, united, one, wish, one, ...</td>\n",
       "      <td>[around, flag, stand, united, one, wish, one, ...</td>\n",
       "      <td>around flag stand united one wish one goal sac...</td>\n",
       "    </tr>\n",
       "    <tr>\n",
       "      <th>1</th>\n",
       "      <td>Armenia</td>\n",
       "      <td>AM</td>\n",
       "      <td>ARM</td>\n",
       "      <td>Europe</td>\n",
       "      <td>Our Fatherland, free, independent, That has fo...</td>\n",
       "      <td>Our Fatherland free independent That has for c...</td>\n",
       "      <td>[our, fatherland, free, independent, that, has...</td>\n",
       "      <td>[fatherland, free, independent, centuries, liv...</td>\n",
       "      <td>[fatherland, free, independent, century, lived...</td>\n",
       "      <td>fatherland free independent century lived summ...</td>\n",
       "    </tr>\n",
       "    <tr>\n",
       "      <th>2</th>\n",
       "      <td>Austria</td>\n",
       "      <td>AT</td>\n",
       "      <td>AUT</td>\n",
       "      <td>Europe</td>\n",
       "      <td>Land of mountains, land by the river, Land of ...</td>\n",
       "      <td>Land of mountains land by the river Land of fi...</td>\n",
       "      <td>[land, of, mountains, land, by, the, river, la...</td>\n",
       "      <td>[land, mountains, land, river, land, fields, l...</td>\n",
       "      <td>[land, mountain, land, river, land, field, lan...</td>\n",
       "      <td>land mountain land river land field land cathe...</td>\n",
       "    </tr>\n",
       "    <tr>\n",
       "      <th>3</th>\n",
       "      <td>Azerbaijan</td>\n",
       "      <td>AZ</td>\n",
       "      <td>AZE</td>\n",
       "      <td>Europe</td>\n",
       "      <td>Azerbaijan, Azerbaijan! The glorious Fatherlan...</td>\n",
       "      <td>Azerbaijan Azerbaijan The glorious Fatherland ...</td>\n",
       "      <td>[azerbaijan, azerbaijan, the, glorious, father...</td>\n",
       "      <td>[azerbaijan, azerbaijan, glorious, fatherland,...</td>\n",
       "      <td>[azerbaijan, azerbaijan, glorious, fatherland,...</td>\n",
       "      <td>azerbaijan azerbaijan glorious fatherland valo...</td>\n",
       "    </tr>\n",
       "    <tr>\n",
       "      <th>4</th>\n",
       "      <td>Belarus</td>\n",
       "      <td>BY</td>\n",
       "      <td>BLR</td>\n",
       "      <td>Europe</td>\n",
       "      <td>We, Belarusians, are peaceful people, Wholehea...</td>\n",
       "      <td>We Belarusians are peaceful people Wholehearte...</td>\n",
       "      <td>[we, belarusians, are, peaceful, people, whole...</td>\n",
       "      <td>[belarusians, peaceful, people, wholeheartedly...</td>\n",
       "      <td>[belarusian, peaceful, people, wholeheartedly,...</td>\n",
       "      <td>belarusian peaceful people wholeheartedly devo...</td>\n",
       "    </tr>\n",
       "  </tbody>\n",
       "</table>\n",
       "</div>"
      ],
      "text/plain": [
       "      Country Alpha-2 Alpha-3 Continent  \\\n",
       "0     Albania      AL     ALB    Europe   \n",
       "1     Armenia      AM     ARM    Europe   \n",
       "2     Austria      AT     AUT    Europe   \n",
       "3  Azerbaijan      AZ     AZE    Europe   \n",
       "4     Belarus      BY     BLR    Europe   \n",
       "\n",
       "                                              Anthem  \\\n",
       "0  Around our flag we stand united, With one wish...   \n",
       "1  Our Fatherland, free, independent, That has fo...   \n",
       "2  Land of mountains, land by the river, Land of ...   \n",
       "3  Azerbaijan, Azerbaijan! The glorious Fatherlan...   \n",
       "4  We, Belarusians, are peaceful people, Wholehea...   \n",
       "\n",
       "                                       removed_punct  \\\n",
       "0  Around our flag we stand united With one wish ...   \n",
       "1  Our Fatherland free independent That has for c...   \n",
       "2  Land of mountains land by the river Land of fi...   \n",
       "3  Azerbaijan Azerbaijan The glorious Fatherland ...   \n",
       "4  We Belarusians are peaceful people Wholehearte...   \n",
       "\n",
       "                                              tokens  \\\n",
       "0  [around, our, flag, we, stand, united, with, o...   \n",
       "1  [our, fatherland, free, independent, that, has...   \n",
       "2  [land, of, mountains, land, by, the, river, la...   \n",
       "3  [azerbaijan, azerbaijan, the, glorious, father...   \n",
       "4  [we, belarusians, are, peaceful, people, whole...   \n",
       "\n",
       "                                        clean_tokens  \\\n",
       "0  [around, flag, stand, united, one, wish, one, ...   \n",
       "1  [fatherland, free, independent, centuries, liv...   \n",
       "2  [land, mountains, land, river, land, fields, l...   \n",
       "3  [azerbaijan, azerbaijan, glorious, fatherland,...   \n",
       "4  [belarusians, peaceful, people, wholeheartedly...   \n",
       "\n",
       "                                         lemma_words  \\\n",
       "0  [around, flag, stand, united, one, wish, one, ...   \n",
       "1  [fatherland, free, independent, century, lived...   \n",
       "2  [land, mountain, land, river, land, field, lan...   \n",
       "3  [azerbaijan, azerbaijan, glorious, fatherland,...   \n",
       "4  [belarusian, peaceful, people, wholeheartedly,...   \n",
       "\n",
       "                                          clean_text  \n",
       "0  around flag stand united one wish one goal sac...  \n",
       "1  fatherland free independent century lived summ...  \n",
       "2  land mountain land river land field land cathe...  \n",
       "3  azerbaijan azerbaijan glorious fatherland valo...  \n",
       "4  belarusian peaceful people wholeheartedly devo...  "
      ]
     },
     "execution_count": 40,
     "metadata": {},
     "output_type": "execute_result"
    }
   ],
   "source": [
    "df['clean_text'] = df ['lemma_words'].apply(lambda x: return_sentences(x))\n",
    "df.head()"
   ]
  },
  {
   "cell_type": "code",
   "execution_count": 41,
   "metadata": {},
   "outputs": [
    {
     "name": "stdout",
     "output_type": "stream",
     "text": [
      "            Country                                             Anthem  \\\n",
      "0           Albania  Around our flag we stand united, With one wish...   \n",
      "1           Armenia  Our Fatherland, free, independent, That has fo...   \n",
      "2           Austria  Land of mountains, land by the river, Land of ...   \n",
      "3        Azerbaijan  Azerbaijan, Azerbaijan! The glorious Fatherlan...   \n",
      "4           Belarus  We, Belarusians, are peaceful people, Wholehea...   \n",
      "..              ...                                                ...   \n",
      "185         Tunisia  O defenders of the Homeland! Rally around to t...   \n",
      "186          Uganda  Oh Uganda! May God uphold Thee, We lay our fut...   \n",
      "187  Western Sahara  O sons of the Sahara! In the battlefield, you ...   \n",
      "188          Zambia  Stand and sing of Zambia, proud and free, Land...   \n",
      "189        Zimbabwe  Oh lift high the banner, the flag of Zimbabwe ...   \n",
      "\n",
      "                                            clean_text  \n",
      "0    around flag stand united one wish one goal sac...  \n",
      "1    fatherland free independent century lived summ...  \n",
      "2    land mountain land river land field land cathe...  \n",
      "3    azerbaijan azerbaijan glorious fatherland valo...  \n",
      "4    belarusian peaceful people wholeheartedly devo...  \n",
      "..                                                 ...  \n",
      "185  defender homeland rally around glory time bloo...  \n",
      "186  oh uganda may god uphold thee lay future thy h...  \n",
      "187  son sahara battlefield torch holder long road ...  \n",
      "188  stand sing zambia proud free land work joy uni...  \n",
      "189  oh lift high banner flag zimbabwe symbol freed...  \n",
      "\n",
      "[190 rows x 3 columns]\n"
     ]
    }
   ],
   "source": [
    "df2 = pd.DataFrame(df,columns =['Country','Anthem','clean_text'] )\n",
    "print(df2)"
   ]
  },
  {
   "cell_type": "code",
   "execution_count": 42,
   "metadata": {},
   "outputs": [],
   "source": [
    "df2.to_csv('clean_data.csv',index=False)"
   ]
  },
  {
   "cell_type": "markdown",
   "metadata": {},
   "source": [
    "NRC Emotion Lexicon"
   ]
  },
  {
   "cell_type": "code",
   "execution_count": 43,
   "metadata": {},
   "outputs": [],
   "source": [
    "#Function of retrieving nrc affect frequencies\n",
    "def emotion_freq(lyrics):\n",
    "    emotions = {'anger':0.0 , 'anticipation':0.0 ,'disgust':0.0 , 'fear':0.0 ,'joy':0.0 ,'sadness':0.0,'surprise':0.0,'trust':0.0 }\n",
    "    #creating object\n",
    "    lyrics = NRCLex(lyrics)\n",
    "    #using affect frequencies method\n",
    "    freq = lyrics.affect_frequencies\n",
    "    #Iterates through list\n",
    "    for k, fq in freq.items():\n",
    "        emotions[k] = emotions.get(k,0.0) + fq\n",
    "    return emotions\n",
    "\n",
    "#calculate word count in each lyrics\n",
    "def word_count(row):\n",
    "    row = nltk.word_tokenize(row)\n",
    "    count = len(row)\n",
    "    return count"
   ]
  },
  {
   "cell_type": "code",
   "execution_count": 44,
   "metadata": {},
   "outputs": [
    {
     "data": {
      "text/html": [
       "<div>\n",
       "<style scoped>\n",
       "    .dataframe tbody tr th:only-of-type {\n",
       "        vertical-align: middle;\n",
       "    }\n",
       "\n",
       "    .dataframe tbody tr th {\n",
       "        vertical-align: top;\n",
       "    }\n",
       "\n",
       "    .dataframe thead th {\n",
       "        text-align: right;\n",
       "    }\n",
       "</style>\n",
       "<table border=\"1\" class=\"dataframe\">\n",
       "  <thead>\n",
       "    <tr style=\"text-align: right;\">\n",
       "      <th></th>\n",
       "      <th>Country</th>\n",
       "      <th>Alpha-2</th>\n",
       "      <th>Alpha-3</th>\n",
       "      <th>Continent</th>\n",
       "      <th>Anthem</th>\n",
       "      <th>removed_punct</th>\n",
       "      <th>tokens</th>\n",
       "      <th>clean_tokens</th>\n",
       "      <th>lemma_words</th>\n",
       "      <th>clean_text</th>\n",
       "      <th>emotions_frequency</th>\n",
       "    </tr>\n",
       "  </thead>\n",
       "  <tbody>\n",
       "    <tr>\n",
       "      <th>0</th>\n",
       "      <td>Albania</td>\n",
       "      <td>AL</td>\n",
       "      <td>ALB</td>\n",
       "      <td>Europe</td>\n",
       "      <td>Around our flag we stand united, With one wish...</td>\n",
       "      <td>Around our flag we stand united With one wish ...</td>\n",
       "      <td>[around, our, flag, we, stand, united, with, o...</td>\n",
       "      <td>[around, flag, stand, united, one, wish, one, ...</td>\n",
       "      <td>[around, flag, stand, united, one, wish, one, ...</td>\n",
       "      <td>around flag stand united one wish one goal sac...</td>\n",
       "      <td>{'anger': 0.07142857142857142, 'anticipation':...</td>\n",
       "    </tr>\n",
       "    <tr>\n",
       "      <th>1</th>\n",
       "      <td>Armenia</td>\n",
       "      <td>AM</td>\n",
       "      <td>ARM</td>\n",
       "      <td>Europe</td>\n",
       "      <td>Our Fatherland, free, independent, That has fo...</td>\n",
       "      <td>Our Fatherland free independent That has for c...</td>\n",
       "      <td>[our, fatherland, free, independent, that, has...</td>\n",
       "      <td>[fatherland, free, independent, centuries, liv...</td>\n",
       "      <td>[fatherland, free, independent, century, lived...</td>\n",
       "      <td>fatherland free independent century lived summ...</td>\n",
       "      <td>{'anger': 0.09523809523809523, 'anticipation':...</td>\n",
       "    </tr>\n",
       "    <tr>\n",
       "      <th>2</th>\n",
       "      <td>Austria</td>\n",
       "      <td>AT</td>\n",
       "      <td>AUT</td>\n",
       "      <td>Europe</td>\n",
       "      <td>Land of mountains, land by the river, Land of ...</td>\n",
       "      <td>Land of mountains land by the river Land of fi...</td>\n",
       "      <td>[land, of, mountains, land, by, the, river, la...</td>\n",
       "      <td>[land, mountains, land, river, land, fields, l...</td>\n",
       "      <td>[land, mountain, land, river, land, field, lan...</td>\n",
       "      <td>land mountain land river land field land cathe...</td>\n",
       "      <td>{'anger': 0.0, 'anticipation': 0.0810810810810...</td>\n",
       "    </tr>\n",
       "    <tr>\n",
       "      <th>3</th>\n",
       "      <td>Azerbaijan</td>\n",
       "      <td>AZ</td>\n",
       "      <td>AZE</td>\n",
       "      <td>Europe</td>\n",
       "      <td>Azerbaijan, Azerbaijan! The glorious Fatherlan...</td>\n",
       "      <td>Azerbaijan Azerbaijan The glorious Fatherland ...</td>\n",
       "      <td>[azerbaijan, azerbaijan, the, glorious, father...</td>\n",
       "      <td>[azerbaijan, azerbaijan, glorious, fatherland,...</td>\n",
       "      <td>[azerbaijan, azerbaijan, glorious, fatherland,...</td>\n",
       "      <td>azerbaijan azerbaijan glorious fatherland valo...</td>\n",
       "      <td>{'anger': 0.058823529411764705, 'anticipation'...</td>\n",
       "    </tr>\n",
       "    <tr>\n",
       "      <th>4</th>\n",
       "      <td>Belarus</td>\n",
       "      <td>BY</td>\n",
       "      <td>BLR</td>\n",
       "      <td>Europe</td>\n",
       "      <td>We, Belarusians, are peaceful people, Wholehea...</td>\n",
       "      <td>We Belarusians are peaceful people Wholehearte...</td>\n",
       "      <td>[we, belarusians, are, peaceful, people, whole...</td>\n",
       "      <td>[belarusians, peaceful, people, wholeheartedly...</td>\n",
       "      <td>[belarusian, peaceful, people, wholeheartedly,...</td>\n",
       "      <td>belarusian peaceful people wholeheartedly devo...</td>\n",
       "      <td>{'anger': 0.02631578947368421, 'anticipation':...</td>\n",
       "    </tr>\n",
       "  </tbody>\n",
       "</table>\n",
       "</div>"
      ],
      "text/plain": [
       "      Country Alpha-2 Alpha-3 Continent  \\\n",
       "0     Albania      AL     ALB    Europe   \n",
       "1     Armenia      AM     ARM    Europe   \n",
       "2     Austria      AT     AUT    Europe   \n",
       "3  Azerbaijan      AZ     AZE    Europe   \n",
       "4     Belarus      BY     BLR    Europe   \n",
       "\n",
       "                                              Anthem  \\\n",
       "0  Around our flag we stand united, With one wish...   \n",
       "1  Our Fatherland, free, independent, That has fo...   \n",
       "2  Land of mountains, land by the river, Land of ...   \n",
       "3  Azerbaijan, Azerbaijan! The glorious Fatherlan...   \n",
       "4  We, Belarusians, are peaceful people, Wholehea...   \n",
       "\n",
       "                                       removed_punct  \\\n",
       "0  Around our flag we stand united With one wish ...   \n",
       "1  Our Fatherland free independent That has for c...   \n",
       "2  Land of mountains land by the river Land of fi...   \n",
       "3  Azerbaijan Azerbaijan The glorious Fatherland ...   \n",
       "4  We Belarusians are peaceful people Wholehearte...   \n",
       "\n",
       "                                              tokens  \\\n",
       "0  [around, our, flag, we, stand, united, with, o...   \n",
       "1  [our, fatherland, free, independent, that, has...   \n",
       "2  [land, of, mountains, land, by, the, river, la...   \n",
       "3  [azerbaijan, azerbaijan, the, glorious, father...   \n",
       "4  [we, belarusians, are, peaceful, people, whole...   \n",
       "\n",
       "                                        clean_tokens  \\\n",
       "0  [around, flag, stand, united, one, wish, one, ...   \n",
       "1  [fatherland, free, independent, centuries, liv...   \n",
       "2  [land, mountains, land, river, land, fields, l...   \n",
       "3  [azerbaijan, azerbaijan, glorious, fatherland,...   \n",
       "4  [belarusians, peaceful, people, wholeheartedly...   \n",
       "\n",
       "                                         lemma_words  \\\n",
       "0  [around, flag, stand, united, one, wish, one, ...   \n",
       "1  [fatherland, free, independent, century, lived...   \n",
       "2  [land, mountain, land, river, land, field, lan...   \n",
       "3  [azerbaijan, azerbaijan, glorious, fatherland,...   \n",
       "4  [belarusian, peaceful, people, wholeheartedly,...   \n",
       "\n",
       "                                          clean_text  \\\n",
       "0  around flag stand united one wish one goal sac...   \n",
       "1  fatherland free independent century lived summ...   \n",
       "2  land mountain land river land field land cathe...   \n",
       "3  azerbaijan azerbaijan glorious fatherland valo...   \n",
       "4  belarusian peaceful people wholeheartedly devo...   \n",
       "\n",
       "                                  emotions_frequency  \n",
       "0  {'anger': 0.07142857142857142, 'anticipation':...  \n",
       "1  {'anger': 0.09523809523809523, 'anticipation':...  \n",
       "2  {'anger': 0.0, 'anticipation': 0.0810810810810...  \n",
       "3  {'anger': 0.058823529411764705, 'anticipation'...  \n",
       "4  {'anger': 0.02631578947368421, 'anticipation':...  "
      ]
     },
     "execution_count": 44,
     "metadata": {},
     "output_type": "execute_result"
    }
   ],
   "source": [
    "#retrieving affect frequencies in each lyrics(row)\n",
    "df['emotions_frequency'] = df['clean_text'].apply(emotion_freq)\n",
    "\n",
    "df.head()"
   ]
  },
  {
   "cell_type": "code",
   "execution_count": 45,
   "metadata": {},
   "outputs": [],
   "source": [
    "df = pd.concat((df.drop(['emotions_frequency'],axis=1), df['emotions_frequency'].apply(pd.Series)),axis=1)"
   ]
  },
  {
   "cell_type": "code",
   "execution_count": 46,
   "metadata": {},
   "outputs": [],
   "source": [
    "#calculate word count in each lyrics \n",
    "df['word_count'] = df['clean_text'].apply(word_count)"
   ]
  },
  {
   "cell_type": "code",
   "execution_count": 47,
   "metadata": {},
   "outputs": [
    {
     "data": {
      "text/html": [
       "<div>\n",
       "<style scoped>\n",
       "    .dataframe tbody tr th:only-of-type {\n",
       "        vertical-align: middle;\n",
       "    }\n",
       "\n",
       "    .dataframe tbody tr th {\n",
       "        vertical-align: top;\n",
       "    }\n",
       "\n",
       "    .dataframe thead th {\n",
       "        text-align: right;\n",
       "    }\n",
       "</style>\n",
       "<table border=\"1\" class=\"dataframe\">\n",
       "  <thead>\n",
       "    <tr style=\"text-align: right;\">\n",
       "      <th></th>\n",
       "      <th>Country</th>\n",
       "      <th>Alpha-2</th>\n",
       "      <th>Alpha-3</th>\n",
       "      <th>Continent</th>\n",
       "      <th>Anthem</th>\n",
       "      <th>removed_punct</th>\n",
       "      <th>tokens</th>\n",
       "      <th>clean_tokens</th>\n",
       "      <th>lemma_words</th>\n",
       "      <th>clean_text</th>\n",
       "      <th>...</th>\n",
       "      <th>disgust</th>\n",
       "      <th>fear</th>\n",
       "      <th>joy</th>\n",
       "      <th>sadness</th>\n",
       "      <th>surprise</th>\n",
       "      <th>trust</th>\n",
       "      <th>anticip</th>\n",
       "      <th>positive</th>\n",
       "      <th>negative</th>\n",
       "      <th>word_count</th>\n",
       "    </tr>\n",
       "  </thead>\n",
       "  <tbody>\n",
       "    <tr>\n",
       "      <th>0</th>\n",
       "      <td>Albania</td>\n",
       "      <td>AL</td>\n",
       "      <td>ALB</td>\n",
       "      <td>Europe</td>\n",
       "      <td>Around our flag we stand united, With one wish...</td>\n",
       "      <td>Around our flag we stand united With one wish ...</td>\n",
       "      <td>[around, our, flag, we, stand, united, with, o...</td>\n",
       "      <td>[around, flag, stand, united, one, wish, one, ...</td>\n",
       "      <td>[around, flag, stand, united, one, wish, one, ...</td>\n",
       "      <td>around flag stand united one wish one goal sac...</td>\n",
       "      <td>...</td>\n",
       "      <td>0.017857</td>\n",
       "      <td>0.142857</td>\n",
       "      <td>0.089286</td>\n",
       "      <td>0.035714</td>\n",
       "      <td>0.035714</td>\n",
       "      <td>0.178571</td>\n",
       "      <td>0.0</td>\n",
       "      <td>0.232143</td>\n",
       "      <td>0.125000</td>\n",
       "      <td>70</td>\n",
       "    </tr>\n",
       "    <tr>\n",
       "      <th>1</th>\n",
       "      <td>Armenia</td>\n",
       "      <td>AM</td>\n",
       "      <td>ARM</td>\n",
       "      <td>Europe</td>\n",
       "      <td>Our Fatherland, free, independent, That has fo...</td>\n",
       "      <td>Our Fatherland free independent That has for c...</td>\n",
       "      <td>[our, fatherland, free, independent, that, has...</td>\n",
       "      <td>[fatherland, free, independent, centuries, liv...</td>\n",
       "      <td>[fatherland, free, independent, century, lived...</td>\n",
       "      <td>fatherland free independent century lived summ...</td>\n",
       "      <td>...</td>\n",
       "      <td>0.095238</td>\n",
       "      <td>0.095238</td>\n",
       "      <td>0.095238</td>\n",
       "      <td>0.047619</td>\n",
       "      <td>0.047619</td>\n",
       "      <td>0.142857</td>\n",
       "      <td>0.0</td>\n",
       "      <td>0.238095</td>\n",
       "      <td>0.095238</td>\n",
       "      <td>39</td>\n",
       "    </tr>\n",
       "    <tr>\n",
       "      <th>2</th>\n",
       "      <td>Austria</td>\n",
       "      <td>AT</td>\n",
       "      <td>AUT</td>\n",
       "      <td>Europe</td>\n",
       "      <td>Land of mountains, land by the river, Land of ...</td>\n",
       "      <td>Land of mountains land by the river Land of fi...</td>\n",
       "      <td>[land, of, mountains, land, by, the, river, la...</td>\n",
       "      <td>[land, mountains, land, river, land, fields, l...</td>\n",
       "      <td>[land, mountain, land, river, land, field, lan...</td>\n",
       "      <td>land mountain land river land field land cathe...</td>\n",
       "      <td>...</td>\n",
       "      <td>0.000000</td>\n",
       "      <td>0.000000</td>\n",
       "      <td>0.189189</td>\n",
       "      <td>0.027027</td>\n",
       "      <td>0.054054</td>\n",
       "      <td>0.162162</td>\n",
       "      <td>0.0</td>\n",
       "      <td>0.486486</td>\n",
       "      <td>0.000000</td>\n",
       "      <td>69</td>\n",
       "    </tr>\n",
       "    <tr>\n",
       "      <th>3</th>\n",
       "      <td>Azerbaijan</td>\n",
       "      <td>AZ</td>\n",
       "      <td>AZE</td>\n",
       "      <td>Europe</td>\n",
       "      <td>Azerbaijan, Azerbaijan! The glorious Fatherlan...</td>\n",
       "      <td>Azerbaijan Azerbaijan The glorious Fatherland ...</td>\n",
       "      <td>[azerbaijan, azerbaijan, the, glorious, father...</td>\n",
       "      <td>[azerbaijan, azerbaijan, glorious, fatherland,...</td>\n",
       "      <td>[azerbaijan, azerbaijan, glorious, fatherland,...</td>\n",
       "      <td>azerbaijan azerbaijan glorious fatherland valo...</td>\n",
       "      <td>...</td>\n",
       "      <td>0.000000</td>\n",
       "      <td>0.088235</td>\n",
       "      <td>0.088235</td>\n",
       "      <td>0.058824</td>\n",
       "      <td>0.058824</td>\n",
       "      <td>0.147059</td>\n",
       "      <td>0.0</td>\n",
       "      <td>0.235294</td>\n",
       "      <td>0.117647</td>\n",
       "      <td>83</td>\n",
       "    </tr>\n",
       "    <tr>\n",
       "      <th>4</th>\n",
       "      <td>Belarus</td>\n",
       "      <td>BY</td>\n",
       "      <td>BLR</td>\n",
       "      <td>Europe</td>\n",
       "      <td>We, Belarusians, are peaceful people, Wholehea...</td>\n",
       "      <td>We Belarusians are peaceful people Wholehearte...</td>\n",
       "      <td>[we, belarusians, are, peaceful, people, whole...</td>\n",
       "      <td>[belarusians, peaceful, people, wholeheartedly...</td>\n",
       "      <td>[belarusian, peaceful, people, wholeheartedly,...</td>\n",
       "      <td>belarusian peaceful people wholeheartedly devo...</td>\n",
       "      <td>...</td>\n",
       "      <td>0.000000</td>\n",
       "      <td>0.000000</td>\n",
       "      <td>0.223684</td>\n",
       "      <td>0.013158</td>\n",
       "      <td>0.013158</td>\n",
       "      <td>0.210526</td>\n",
       "      <td>0.0</td>\n",
       "      <td>0.315789</td>\n",
       "      <td>0.026316</td>\n",
       "      <td>74</td>\n",
       "    </tr>\n",
       "  </tbody>\n",
       "</table>\n",
       "<p>5 rows × 22 columns</p>\n",
       "</div>"
      ],
      "text/plain": [
       "      Country Alpha-2 Alpha-3 Continent  \\\n",
       "0     Albania      AL     ALB    Europe   \n",
       "1     Armenia      AM     ARM    Europe   \n",
       "2     Austria      AT     AUT    Europe   \n",
       "3  Azerbaijan      AZ     AZE    Europe   \n",
       "4     Belarus      BY     BLR    Europe   \n",
       "\n",
       "                                              Anthem  \\\n",
       "0  Around our flag we stand united, With one wish...   \n",
       "1  Our Fatherland, free, independent, That has fo...   \n",
       "2  Land of mountains, land by the river, Land of ...   \n",
       "3  Azerbaijan, Azerbaijan! The glorious Fatherlan...   \n",
       "4  We, Belarusians, are peaceful people, Wholehea...   \n",
       "\n",
       "                                       removed_punct  \\\n",
       "0  Around our flag we stand united With one wish ...   \n",
       "1  Our Fatherland free independent That has for c...   \n",
       "2  Land of mountains land by the river Land of fi...   \n",
       "3  Azerbaijan Azerbaijan The glorious Fatherland ...   \n",
       "4  We Belarusians are peaceful people Wholehearte...   \n",
       "\n",
       "                                              tokens  \\\n",
       "0  [around, our, flag, we, stand, united, with, o...   \n",
       "1  [our, fatherland, free, independent, that, has...   \n",
       "2  [land, of, mountains, land, by, the, river, la...   \n",
       "3  [azerbaijan, azerbaijan, the, glorious, father...   \n",
       "4  [we, belarusians, are, peaceful, people, whole...   \n",
       "\n",
       "                                        clean_tokens  \\\n",
       "0  [around, flag, stand, united, one, wish, one, ...   \n",
       "1  [fatherland, free, independent, centuries, liv...   \n",
       "2  [land, mountains, land, river, land, fields, l...   \n",
       "3  [azerbaijan, azerbaijan, glorious, fatherland,...   \n",
       "4  [belarusians, peaceful, people, wholeheartedly...   \n",
       "\n",
       "                                         lemma_words  \\\n",
       "0  [around, flag, stand, united, one, wish, one, ...   \n",
       "1  [fatherland, free, independent, century, lived...   \n",
       "2  [land, mountain, land, river, land, field, lan...   \n",
       "3  [azerbaijan, azerbaijan, glorious, fatherland,...   \n",
       "4  [belarusian, peaceful, people, wholeheartedly,...   \n",
       "\n",
       "                                          clean_text  ...   disgust      fear  \\\n",
       "0  around flag stand united one wish one goal sac...  ...  0.017857  0.142857   \n",
       "1  fatherland free independent century lived summ...  ...  0.095238  0.095238   \n",
       "2  land mountain land river land field land cathe...  ...  0.000000  0.000000   \n",
       "3  azerbaijan azerbaijan glorious fatherland valo...  ...  0.000000  0.088235   \n",
       "4  belarusian peaceful people wholeheartedly devo...  ...  0.000000  0.000000   \n",
       "\n",
       "        joy   sadness  surprise     trust  anticip  positive  negative  \\\n",
       "0  0.089286  0.035714  0.035714  0.178571      0.0  0.232143  0.125000   \n",
       "1  0.095238  0.047619  0.047619  0.142857      0.0  0.238095  0.095238   \n",
       "2  0.189189  0.027027  0.054054  0.162162      0.0  0.486486  0.000000   \n",
       "3  0.088235  0.058824  0.058824  0.147059      0.0  0.235294  0.117647   \n",
       "4  0.223684  0.013158  0.013158  0.210526      0.0  0.315789  0.026316   \n",
       "\n",
       "   word_count  \n",
       "0          70  \n",
       "1          39  \n",
       "2          69  \n",
       "3          83  \n",
       "4          74  \n",
       "\n",
       "[5 rows x 22 columns]"
      ]
     },
     "execution_count": 47,
     "metadata": {},
     "output_type": "execute_result"
    }
   ],
   "source": [
    "df.head()"
   ]
  },
  {
   "cell_type": "code",
   "execution_count": 48,
   "metadata": {},
   "outputs": [],
   "source": [
    "#normalizing emotion frequencies by dividing word counts in each lyrics(row)\n",
    "emotions = ['anger','fear','sadness','trust','anticipation','joy','disgust','surprise']\n",
    "for emotion in emotions:\n",
    "    df[emotion] = df[emotion]/df['word_count']"
   ]
  },
  {
   "cell_type": "code",
   "execution_count": 49,
   "metadata": {},
   "outputs": [
    {
     "data": {
      "text/html": [
       "<div>\n",
       "<style scoped>\n",
       "    .dataframe tbody tr th:only-of-type {\n",
       "        vertical-align: middle;\n",
       "    }\n",
       "\n",
       "    .dataframe tbody tr th {\n",
       "        vertical-align: top;\n",
       "    }\n",
       "\n",
       "    .dataframe thead th {\n",
       "        text-align: right;\n",
       "    }\n",
       "</style>\n",
       "<table border=\"1\" class=\"dataframe\">\n",
       "  <thead>\n",
       "    <tr style=\"text-align: right;\">\n",
       "      <th></th>\n",
       "      <th>Country</th>\n",
       "      <th>Alpha-2</th>\n",
       "      <th>Alpha-3</th>\n",
       "      <th>Continent</th>\n",
       "      <th>Anthem</th>\n",
       "      <th>removed_punct</th>\n",
       "      <th>tokens</th>\n",
       "      <th>clean_tokens</th>\n",
       "      <th>lemma_words</th>\n",
       "      <th>clean_text</th>\n",
       "      <th>...</th>\n",
       "      <th>disgust</th>\n",
       "      <th>fear</th>\n",
       "      <th>joy</th>\n",
       "      <th>sadness</th>\n",
       "      <th>surprise</th>\n",
       "      <th>trust</th>\n",
       "      <th>anticip</th>\n",
       "      <th>positive</th>\n",
       "      <th>negative</th>\n",
       "      <th>word_count</th>\n",
       "    </tr>\n",
       "  </thead>\n",
       "  <tbody>\n",
       "    <tr>\n",
       "      <th>0</th>\n",
       "      <td>Albania</td>\n",
       "      <td>AL</td>\n",
       "      <td>ALB</td>\n",
       "      <td>Europe</td>\n",
       "      <td>Around our flag we stand united, With one wish...</td>\n",
       "      <td>Around our flag we stand united With one wish ...</td>\n",
       "      <td>[around, our, flag, we, stand, united, with, o...</td>\n",
       "      <td>[around, flag, stand, united, one, wish, one, ...</td>\n",
       "      <td>[around, flag, stand, united, one, wish, one, ...</td>\n",
       "      <td>around flag stand united one wish one goal sac...</td>\n",
       "      <td>...</td>\n",
       "      <td>0.000255</td>\n",
       "      <td>0.002041</td>\n",
       "      <td>0.001276</td>\n",
       "      <td>0.000510</td>\n",
       "      <td>0.000510</td>\n",
       "      <td>0.002551</td>\n",
       "      <td>0.0</td>\n",
       "      <td>0.232143</td>\n",
       "      <td>0.125000</td>\n",
       "      <td>70</td>\n",
       "    </tr>\n",
       "    <tr>\n",
       "      <th>1</th>\n",
       "      <td>Armenia</td>\n",
       "      <td>AM</td>\n",
       "      <td>ARM</td>\n",
       "      <td>Europe</td>\n",
       "      <td>Our Fatherland, free, independent, That has fo...</td>\n",
       "      <td>Our Fatherland free independent That has for c...</td>\n",
       "      <td>[our, fatherland, free, independent, that, has...</td>\n",
       "      <td>[fatherland, free, independent, centuries, liv...</td>\n",
       "      <td>[fatherland, free, independent, century, lived...</td>\n",
       "      <td>fatherland free independent century lived summ...</td>\n",
       "      <td>...</td>\n",
       "      <td>0.002442</td>\n",
       "      <td>0.002442</td>\n",
       "      <td>0.002442</td>\n",
       "      <td>0.001221</td>\n",
       "      <td>0.001221</td>\n",
       "      <td>0.003663</td>\n",
       "      <td>0.0</td>\n",
       "      <td>0.238095</td>\n",
       "      <td>0.095238</td>\n",
       "      <td>39</td>\n",
       "    </tr>\n",
       "    <tr>\n",
       "      <th>2</th>\n",
       "      <td>Austria</td>\n",
       "      <td>AT</td>\n",
       "      <td>AUT</td>\n",
       "      <td>Europe</td>\n",
       "      <td>Land of mountains, land by the river, Land of ...</td>\n",
       "      <td>Land of mountains land by the river Land of fi...</td>\n",
       "      <td>[land, of, mountains, land, by, the, river, la...</td>\n",
       "      <td>[land, mountains, land, river, land, fields, l...</td>\n",
       "      <td>[land, mountain, land, river, land, field, lan...</td>\n",
       "      <td>land mountain land river land field land cathe...</td>\n",
       "      <td>...</td>\n",
       "      <td>0.000000</td>\n",
       "      <td>0.000000</td>\n",
       "      <td>0.002742</td>\n",
       "      <td>0.000392</td>\n",
       "      <td>0.000783</td>\n",
       "      <td>0.002350</td>\n",
       "      <td>0.0</td>\n",
       "      <td>0.486486</td>\n",
       "      <td>0.000000</td>\n",
       "      <td>69</td>\n",
       "    </tr>\n",
       "    <tr>\n",
       "      <th>3</th>\n",
       "      <td>Azerbaijan</td>\n",
       "      <td>AZ</td>\n",
       "      <td>AZE</td>\n",
       "      <td>Europe</td>\n",
       "      <td>Azerbaijan, Azerbaijan! The glorious Fatherlan...</td>\n",
       "      <td>Azerbaijan Azerbaijan The glorious Fatherland ...</td>\n",
       "      <td>[azerbaijan, azerbaijan, the, glorious, father...</td>\n",
       "      <td>[azerbaijan, azerbaijan, glorious, fatherland,...</td>\n",
       "      <td>[azerbaijan, azerbaijan, glorious, fatherland,...</td>\n",
       "      <td>azerbaijan azerbaijan glorious fatherland valo...</td>\n",
       "      <td>...</td>\n",
       "      <td>0.000000</td>\n",
       "      <td>0.001063</td>\n",
       "      <td>0.001063</td>\n",
       "      <td>0.000709</td>\n",
       "      <td>0.000709</td>\n",
       "      <td>0.001772</td>\n",
       "      <td>0.0</td>\n",
       "      <td>0.235294</td>\n",
       "      <td>0.117647</td>\n",
       "      <td>83</td>\n",
       "    </tr>\n",
       "    <tr>\n",
       "      <th>4</th>\n",
       "      <td>Belarus</td>\n",
       "      <td>BY</td>\n",
       "      <td>BLR</td>\n",
       "      <td>Europe</td>\n",
       "      <td>We, Belarusians, are peaceful people, Wholehea...</td>\n",
       "      <td>We Belarusians are peaceful people Wholehearte...</td>\n",
       "      <td>[we, belarusians, are, peaceful, people, whole...</td>\n",
       "      <td>[belarusians, peaceful, people, wholeheartedly...</td>\n",
       "      <td>[belarusian, peaceful, people, wholeheartedly,...</td>\n",
       "      <td>belarusian peaceful people wholeheartedly devo...</td>\n",
       "      <td>...</td>\n",
       "      <td>0.000000</td>\n",
       "      <td>0.000000</td>\n",
       "      <td>0.003023</td>\n",
       "      <td>0.000178</td>\n",
       "      <td>0.000178</td>\n",
       "      <td>0.002845</td>\n",
       "      <td>0.0</td>\n",
       "      <td>0.315789</td>\n",
       "      <td>0.026316</td>\n",
       "      <td>74</td>\n",
       "    </tr>\n",
       "  </tbody>\n",
       "</table>\n",
       "<p>5 rows × 22 columns</p>\n",
       "</div>"
      ],
      "text/plain": [
       "      Country Alpha-2 Alpha-3 Continent  \\\n",
       "0     Albania      AL     ALB    Europe   \n",
       "1     Armenia      AM     ARM    Europe   \n",
       "2     Austria      AT     AUT    Europe   \n",
       "3  Azerbaijan      AZ     AZE    Europe   \n",
       "4     Belarus      BY     BLR    Europe   \n",
       "\n",
       "                                              Anthem  \\\n",
       "0  Around our flag we stand united, With one wish...   \n",
       "1  Our Fatherland, free, independent, That has fo...   \n",
       "2  Land of mountains, land by the river, Land of ...   \n",
       "3  Azerbaijan, Azerbaijan! The glorious Fatherlan...   \n",
       "4  We, Belarusians, are peaceful people, Wholehea...   \n",
       "\n",
       "                                       removed_punct  \\\n",
       "0  Around our flag we stand united With one wish ...   \n",
       "1  Our Fatherland free independent That has for c...   \n",
       "2  Land of mountains land by the river Land of fi...   \n",
       "3  Azerbaijan Azerbaijan The glorious Fatherland ...   \n",
       "4  We Belarusians are peaceful people Wholehearte...   \n",
       "\n",
       "                                              tokens  \\\n",
       "0  [around, our, flag, we, stand, united, with, o...   \n",
       "1  [our, fatherland, free, independent, that, has...   \n",
       "2  [land, of, mountains, land, by, the, river, la...   \n",
       "3  [azerbaijan, azerbaijan, the, glorious, father...   \n",
       "4  [we, belarusians, are, peaceful, people, whole...   \n",
       "\n",
       "                                        clean_tokens  \\\n",
       "0  [around, flag, stand, united, one, wish, one, ...   \n",
       "1  [fatherland, free, independent, centuries, liv...   \n",
       "2  [land, mountains, land, river, land, fields, l...   \n",
       "3  [azerbaijan, azerbaijan, glorious, fatherland,...   \n",
       "4  [belarusians, peaceful, people, wholeheartedly...   \n",
       "\n",
       "                                         lemma_words  \\\n",
       "0  [around, flag, stand, united, one, wish, one, ...   \n",
       "1  [fatherland, free, independent, century, lived...   \n",
       "2  [land, mountain, land, river, land, field, lan...   \n",
       "3  [azerbaijan, azerbaijan, glorious, fatherland,...   \n",
       "4  [belarusian, peaceful, people, wholeheartedly,...   \n",
       "\n",
       "                                          clean_text  ...   disgust      fear  \\\n",
       "0  around flag stand united one wish one goal sac...  ...  0.000255  0.002041   \n",
       "1  fatherland free independent century lived summ...  ...  0.002442  0.002442   \n",
       "2  land mountain land river land field land cathe...  ...  0.000000  0.000000   \n",
       "3  azerbaijan azerbaijan glorious fatherland valo...  ...  0.000000  0.001063   \n",
       "4  belarusian peaceful people wholeheartedly devo...  ...  0.000000  0.000000   \n",
       "\n",
       "        joy   sadness  surprise     trust  anticip  positive  negative  \\\n",
       "0  0.001276  0.000510  0.000510  0.002551      0.0  0.232143  0.125000   \n",
       "1  0.002442  0.001221  0.001221  0.003663      0.0  0.238095  0.095238   \n",
       "2  0.002742  0.000392  0.000783  0.002350      0.0  0.486486  0.000000   \n",
       "3  0.001063  0.000709  0.000709  0.001772      0.0  0.235294  0.117647   \n",
       "4  0.003023  0.000178  0.000178  0.002845      0.0  0.315789  0.026316   \n",
       "\n",
       "   word_count  \n",
       "0          70  \n",
       "1          39  \n",
       "2          69  \n",
       "3          83  \n",
       "4          74  \n",
       "\n",
       "[5 rows x 22 columns]"
      ]
     },
     "execution_count": 49,
     "metadata": {},
     "output_type": "execute_result"
    }
   ],
   "source": [
    "df.head()"
   ]
  },
  {
   "cell_type": "code",
   "execution_count": 50,
   "metadata": {},
   "outputs": [],
   "source": [
    "df.drop(['word_count'],axis=1,inplace=True)"
   ]
  },
  {
   "cell_type": "code",
   "execution_count": 51,
   "metadata": {},
   "outputs": [],
   "source": [
    "df2 = df[['anger','fear','sadness','trust','anticipation','joy','disgust','surprise']]"
   ]
  },
  {
   "cell_type": "code",
   "execution_count": 52,
   "metadata": {},
   "outputs": [
    {
     "name": "stdout",
     "output_type": "stream",
     "text": [
      "anger           0.109811\n",
      "fear            0.213791\n",
      "sadness         0.118984\n",
      "trust           0.661470\n",
      "anticipation    0.460204\n",
      "joy             0.530726\n",
      "disgust         0.073653\n",
      "surprise        0.133004\n",
      "dtype: float64\n"
     ]
    }
   ],
   "source": [
    "Total = df2.sum(axis=0)\n",
    "print(Total)"
   ]
  },
  {
   "cell_type": "code",
   "execution_count": 53,
   "metadata": {},
   "outputs": [],
   "source": [
    "# Total = df2.select_dtypes(pd.np.number).sum().rename('Total')\n",
    "# print(Total)"
   ]
  },
  {
   "cell_type": "code",
   "execution_count": 54,
   "metadata": {},
   "outputs": [],
   "source": [
    "# df2 = df2.append(Total)\n",
    "# df2"
   ]
  },
  {
   "cell_type": "code",
   "execution_count": 55,
   "metadata": {},
   "outputs": [
    {
     "name": "stdout",
     "output_type": "stream",
     "text": [
      "        anger      fear   sadness     trust  anticipation       joy   disgust  \\\n",
      "0    0.001020  0.002041  0.000510  0.002551      0.001020  0.001276  0.000255   \n",
      "1    0.002442  0.002442  0.001221  0.003663      0.001221  0.002442  0.002442   \n",
      "2    0.000000  0.000000  0.000392  0.002350      0.001175  0.002742  0.000000   \n",
      "3    0.000709  0.001063  0.000709  0.001772      0.001772  0.001063  0.000000   \n",
      "4    0.000356  0.000000  0.000178  0.002845      0.002312  0.003023  0.000000   \n",
      "..        ...       ...       ...       ...           ...       ...       ...   \n",
      "185  0.000764  0.001528  0.000764  0.001783      0.001401  0.001528  0.000382   \n",
      "186  0.000000  0.000508  0.000000  0.004065      0.002541  0.004065  0.000508   \n",
      "187  0.001547  0.002391  0.001266  0.000844      0.000703  0.000281  0.000000   \n",
      "188  0.000296  0.000591  0.000444  0.003253      0.001183  0.002661  0.000000   \n",
      "189  0.000213  0.000426  0.000213  0.002771      0.002131  0.002558  0.000000   \n",
      "\n",
      "     surprise  \n",
      "0    0.000510  \n",
      "1    0.001221  \n",
      "2    0.000783  \n",
      "3    0.000709  \n",
      "4    0.000178  \n",
      "..        ...  \n",
      "185  0.000891  \n",
      "186  0.001524  \n",
      "187  0.000422  \n",
      "188  0.000296  \n",
      "189  0.000426  \n",
      "\n",
      "[190 rows x 8 columns]\n"
     ]
    }
   ],
   "source": [
    "print(df2)"
   ]
  },
  {
   "cell_type": "code",
   "execution_count": 56,
   "metadata": {},
   "outputs": [],
   "source": [
    "df3 = df2[['anger','fear','sadness','trust','anticipation','joy','disgust','surprise']].sum()\n"
   ]
  },
  {
   "cell_type": "code",
   "execution_count": 57,
   "metadata": {},
   "outputs": [
    {
     "data": {
      "application/vnd.plotly.v1+json": {
       "config": {
        "plotlyServerURL": "https://plot.ly"
       },
       "data": [
        {
         "alignmentgroup": "True",
         "hovertemplate": "variable=0<br>value=%{x}<br>index=%{y}<extra></extra>",
         "legendgroup": "0",
         "marker": {
          "color": "#636efa",
          "pattern": {
           "shape": ""
          }
         },
         "name": "0",
         "offsetgroup": "0",
         "orientation": "h",
         "showlegend": true,
         "textposition": "auto",
         "type": "bar",
         "x": [
          0.10981108267820436,
          0.21379137130916195,
          0.11898445832073135,
          0.6614703671361246,
          0.4602043325726234,
          0.5307257448681966,
          0.07365317037203062,
          0.13300403032472757
         ],
         "xaxis": "x",
         "y": [
          "anger",
          "fear",
          "sadness",
          "trust",
          "anticipation",
          "joy",
          "disgust",
          "surprise"
         ],
         "yaxis": "y"
        }
       ],
       "layout": {
        "barmode": "relative",
        "legend": {
         "title": {
          "text": "variable"
         },
         "tracegroupgap": 0
        },
        "margin": {
         "t": 60
        },
        "template": {
         "data": {
          "bar": [
           {
            "error_x": {
             "color": "#2a3f5f"
            },
            "error_y": {
             "color": "#2a3f5f"
            },
            "marker": {
             "line": {
              "color": "#E5ECF6",
              "width": 0.5
             },
             "pattern": {
              "fillmode": "overlay",
              "size": 10,
              "solidity": 0.2
             }
            },
            "type": "bar"
           }
          ],
          "barpolar": [
           {
            "marker": {
             "line": {
              "color": "#E5ECF6",
              "width": 0.5
             },
             "pattern": {
              "fillmode": "overlay",
              "size": 10,
              "solidity": 0.2
             }
            },
            "type": "barpolar"
           }
          ],
          "carpet": [
           {
            "aaxis": {
             "endlinecolor": "#2a3f5f",
             "gridcolor": "white",
             "linecolor": "white",
             "minorgridcolor": "white",
             "startlinecolor": "#2a3f5f"
            },
            "baxis": {
             "endlinecolor": "#2a3f5f",
             "gridcolor": "white",
             "linecolor": "white",
             "minorgridcolor": "white",
             "startlinecolor": "#2a3f5f"
            },
            "type": "carpet"
           }
          ],
          "choropleth": [
           {
            "colorbar": {
             "outlinewidth": 0,
             "ticks": ""
            },
            "type": "choropleth"
           }
          ],
          "contour": [
           {
            "colorbar": {
             "outlinewidth": 0,
             "ticks": ""
            },
            "colorscale": [
             [
              0,
              "#0d0887"
             ],
             [
              0.1111111111111111,
              "#46039f"
             ],
             [
              0.2222222222222222,
              "#7201a8"
             ],
             [
              0.3333333333333333,
              "#9c179e"
             ],
             [
              0.4444444444444444,
              "#bd3786"
             ],
             [
              0.5555555555555556,
              "#d8576b"
             ],
             [
              0.6666666666666666,
              "#ed7953"
             ],
             [
              0.7777777777777778,
              "#fb9f3a"
             ],
             [
              0.8888888888888888,
              "#fdca26"
             ],
             [
              1,
              "#f0f921"
             ]
            ],
            "type": "contour"
           }
          ],
          "contourcarpet": [
           {
            "colorbar": {
             "outlinewidth": 0,
             "ticks": ""
            },
            "type": "contourcarpet"
           }
          ],
          "heatmap": [
           {
            "colorbar": {
             "outlinewidth": 0,
             "ticks": ""
            },
            "colorscale": [
             [
              0,
              "#0d0887"
             ],
             [
              0.1111111111111111,
              "#46039f"
             ],
             [
              0.2222222222222222,
              "#7201a8"
             ],
             [
              0.3333333333333333,
              "#9c179e"
             ],
             [
              0.4444444444444444,
              "#bd3786"
             ],
             [
              0.5555555555555556,
              "#d8576b"
             ],
             [
              0.6666666666666666,
              "#ed7953"
             ],
             [
              0.7777777777777778,
              "#fb9f3a"
             ],
             [
              0.8888888888888888,
              "#fdca26"
             ],
             [
              1,
              "#f0f921"
             ]
            ],
            "type": "heatmap"
           }
          ],
          "heatmapgl": [
           {
            "colorbar": {
             "outlinewidth": 0,
             "ticks": ""
            },
            "colorscale": [
             [
              0,
              "#0d0887"
             ],
             [
              0.1111111111111111,
              "#46039f"
             ],
             [
              0.2222222222222222,
              "#7201a8"
             ],
             [
              0.3333333333333333,
              "#9c179e"
             ],
             [
              0.4444444444444444,
              "#bd3786"
             ],
             [
              0.5555555555555556,
              "#d8576b"
             ],
             [
              0.6666666666666666,
              "#ed7953"
             ],
             [
              0.7777777777777778,
              "#fb9f3a"
             ],
             [
              0.8888888888888888,
              "#fdca26"
             ],
             [
              1,
              "#f0f921"
             ]
            ],
            "type": "heatmapgl"
           }
          ],
          "histogram": [
           {
            "marker": {
             "pattern": {
              "fillmode": "overlay",
              "size": 10,
              "solidity": 0.2
             }
            },
            "type": "histogram"
           }
          ],
          "histogram2d": [
           {
            "colorbar": {
             "outlinewidth": 0,
             "ticks": ""
            },
            "colorscale": [
             [
              0,
              "#0d0887"
             ],
             [
              0.1111111111111111,
              "#46039f"
             ],
             [
              0.2222222222222222,
              "#7201a8"
             ],
             [
              0.3333333333333333,
              "#9c179e"
             ],
             [
              0.4444444444444444,
              "#bd3786"
             ],
             [
              0.5555555555555556,
              "#d8576b"
             ],
             [
              0.6666666666666666,
              "#ed7953"
             ],
             [
              0.7777777777777778,
              "#fb9f3a"
             ],
             [
              0.8888888888888888,
              "#fdca26"
             ],
             [
              1,
              "#f0f921"
             ]
            ],
            "type": "histogram2d"
           }
          ],
          "histogram2dcontour": [
           {
            "colorbar": {
             "outlinewidth": 0,
             "ticks": ""
            },
            "colorscale": [
             [
              0,
              "#0d0887"
             ],
             [
              0.1111111111111111,
              "#46039f"
             ],
             [
              0.2222222222222222,
              "#7201a8"
             ],
             [
              0.3333333333333333,
              "#9c179e"
             ],
             [
              0.4444444444444444,
              "#bd3786"
             ],
             [
              0.5555555555555556,
              "#d8576b"
             ],
             [
              0.6666666666666666,
              "#ed7953"
             ],
             [
              0.7777777777777778,
              "#fb9f3a"
             ],
             [
              0.8888888888888888,
              "#fdca26"
             ],
             [
              1,
              "#f0f921"
             ]
            ],
            "type": "histogram2dcontour"
           }
          ],
          "mesh3d": [
           {
            "colorbar": {
             "outlinewidth": 0,
             "ticks": ""
            },
            "type": "mesh3d"
           }
          ],
          "parcoords": [
           {
            "line": {
             "colorbar": {
              "outlinewidth": 0,
              "ticks": ""
             }
            },
            "type": "parcoords"
           }
          ],
          "pie": [
           {
            "automargin": true,
            "type": "pie"
           }
          ],
          "scatter": [
           {
            "fillpattern": {
             "fillmode": "overlay",
             "size": 10,
             "solidity": 0.2
            },
            "type": "scatter"
           }
          ],
          "scatter3d": [
           {
            "line": {
             "colorbar": {
              "outlinewidth": 0,
              "ticks": ""
             }
            },
            "marker": {
             "colorbar": {
              "outlinewidth": 0,
              "ticks": ""
             }
            },
            "type": "scatter3d"
           }
          ],
          "scattercarpet": [
           {
            "marker": {
             "colorbar": {
              "outlinewidth": 0,
              "ticks": ""
             }
            },
            "type": "scattercarpet"
           }
          ],
          "scattergeo": [
           {
            "marker": {
             "colorbar": {
              "outlinewidth": 0,
              "ticks": ""
             }
            },
            "type": "scattergeo"
           }
          ],
          "scattergl": [
           {
            "marker": {
             "colorbar": {
              "outlinewidth": 0,
              "ticks": ""
             }
            },
            "type": "scattergl"
           }
          ],
          "scattermapbox": [
           {
            "marker": {
             "colorbar": {
              "outlinewidth": 0,
              "ticks": ""
             }
            },
            "type": "scattermapbox"
           }
          ],
          "scatterpolar": [
           {
            "marker": {
             "colorbar": {
              "outlinewidth": 0,
              "ticks": ""
             }
            },
            "type": "scatterpolar"
           }
          ],
          "scatterpolargl": [
           {
            "marker": {
             "colorbar": {
              "outlinewidth": 0,
              "ticks": ""
             }
            },
            "type": "scatterpolargl"
           }
          ],
          "scatterternary": [
           {
            "marker": {
             "colorbar": {
              "outlinewidth": 0,
              "ticks": ""
             }
            },
            "type": "scatterternary"
           }
          ],
          "surface": [
           {
            "colorbar": {
             "outlinewidth": 0,
             "ticks": ""
            },
            "colorscale": [
             [
              0,
              "#0d0887"
             ],
             [
              0.1111111111111111,
              "#46039f"
             ],
             [
              0.2222222222222222,
              "#7201a8"
             ],
             [
              0.3333333333333333,
              "#9c179e"
             ],
             [
              0.4444444444444444,
              "#bd3786"
             ],
             [
              0.5555555555555556,
              "#d8576b"
             ],
             [
              0.6666666666666666,
              "#ed7953"
             ],
             [
              0.7777777777777778,
              "#fb9f3a"
             ],
             [
              0.8888888888888888,
              "#fdca26"
             ],
             [
              1,
              "#f0f921"
             ]
            ],
            "type": "surface"
           }
          ],
          "table": [
           {
            "cells": {
             "fill": {
              "color": "#EBF0F8"
             },
             "line": {
              "color": "white"
             }
            },
            "header": {
             "fill": {
              "color": "#C8D4E3"
             },
             "line": {
              "color": "white"
             }
            },
            "type": "table"
           }
          ]
         },
         "layout": {
          "annotationdefaults": {
           "arrowcolor": "#2a3f5f",
           "arrowhead": 0,
           "arrowwidth": 1
          },
          "autotypenumbers": "strict",
          "coloraxis": {
           "colorbar": {
            "outlinewidth": 0,
            "ticks": ""
           }
          },
          "colorscale": {
           "diverging": [
            [
             0,
             "#8e0152"
            ],
            [
             0.1,
             "#c51b7d"
            ],
            [
             0.2,
             "#de77ae"
            ],
            [
             0.3,
             "#f1b6da"
            ],
            [
             0.4,
             "#fde0ef"
            ],
            [
             0.5,
             "#f7f7f7"
            ],
            [
             0.6,
             "#e6f5d0"
            ],
            [
             0.7,
             "#b8e186"
            ],
            [
             0.8,
             "#7fbc41"
            ],
            [
             0.9,
             "#4d9221"
            ],
            [
             1,
             "#276419"
            ]
           ],
           "sequential": [
            [
             0,
             "#0d0887"
            ],
            [
             0.1111111111111111,
             "#46039f"
            ],
            [
             0.2222222222222222,
             "#7201a8"
            ],
            [
             0.3333333333333333,
             "#9c179e"
            ],
            [
             0.4444444444444444,
             "#bd3786"
            ],
            [
             0.5555555555555556,
             "#d8576b"
            ],
            [
             0.6666666666666666,
             "#ed7953"
            ],
            [
             0.7777777777777778,
             "#fb9f3a"
            ],
            [
             0.8888888888888888,
             "#fdca26"
            ],
            [
             1,
             "#f0f921"
            ]
           ],
           "sequentialminus": [
            [
             0,
             "#0d0887"
            ],
            [
             0.1111111111111111,
             "#46039f"
            ],
            [
             0.2222222222222222,
             "#7201a8"
            ],
            [
             0.3333333333333333,
             "#9c179e"
            ],
            [
             0.4444444444444444,
             "#bd3786"
            ],
            [
             0.5555555555555556,
             "#d8576b"
            ],
            [
             0.6666666666666666,
             "#ed7953"
            ],
            [
             0.7777777777777778,
             "#fb9f3a"
            ],
            [
             0.8888888888888888,
             "#fdca26"
            ],
            [
             1,
             "#f0f921"
            ]
           ]
          },
          "colorway": [
           "#636efa",
           "#EF553B",
           "#00cc96",
           "#ab63fa",
           "#FFA15A",
           "#19d3f3",
           "#FF6692",
           "#B6E880",
           "#FF97FF",
           "#FECB52"
          ],
          "font": {
           "color": "#2a3f5f"
          },
          "geo": {
           "bgcolor": "white",
           "lakecolor": "white",
           "landcolor": "#E5ECF6",
           "showlakes": true,
           "showland": true,
           "subunitcolor": "white"
          },
          "hoverlabel": {
           "align": "left"
          },
          "hovermode": "closest",
          "mapbox": {
           "style": "light"
          },
          "paper_bgcolor": "white",
          "plot_bgcolor": "#E5ECF6",
          "polar": {
           "angularaxis": {
            "gridcolor": "white",
            "linecolor": "white",
            "ticks": ""
           },
           "bgcolor": "#E5ECF6",
           "radialaxis": {
            "gridcolor": "white",
            "linecolor": "white",
            "ticks": ""
           }
          },
          "scene": {
           "xaxis": {
            "backgroundcolor": "#E5ECF6",
            "gridcolor": "white",
            "gridwidth": 2,
            "linecolor": "white",
            "showbackground": true,
            "ticks": "",
            "zerolinecolor": "white"
           },
           "yaxis": {
            "backgroundcolor": "#E5ECF6",
            "gridcolor": "white",
            "gridwidth": 2,
            "linecolor": "white",
            "showbackground": true,
            "ticks": "",
            "zerolinecolor": "white"
           },
           "zaxis": {
            "backgroundcolor": "#E5ECF6",
            "gridcolor": "white",
            "gridwidth": 2,
            "linecolor": "white",
            "showbackground": true,
            "ticks": "",
            "zerolinecolor": "white"
           }
          },
          "shapedefaults": {
           "line": {
            "color": "#2a3f5f"
           }
          },
          "ternary": {
           "aaxis": {
            "gridcolor": "white",
            "linecolor": "white",
            "ticks": ""
           },
           "baxis": {
            "gridcolor": "white",
            "linecolor": "white",
            "ticks": ""
           },
           "bgcolor": "#E5ECF6",
           "caxis": {
            "gridcolor": "white",
            "linecolor": "white",
            "ticks": ""
           }
          },
          "title": {
           "x": 0.05
          },
          "xaxis": {
           "automargin": true,
           "gridcolor": "white",
           "linecolor": "white",
           "ticks": "",
           "title": {
            "standoff": 15
           },
           "zerolinecolor": "white",
           "zerolinewidth": 2
          },
          "yaxis": {
           "automargin": true,
           "gridcolor": "white",
           "linecolor": "white",
           "ticks": "",
           "title": {
            "standoff": 15
           },
           "zerolinecolor": "white",
           "zerolinewidth": 2
          }
         }
        },
        "xaxis": {
         "anchor": "y",
         "domain": [
          0,
          1
         ],
         "title": {
          "text": "value"
         }
        },
        "yaxis": {
         "anchor": "x",
         "domain": [
          0,
          1
         ],
         "title": {
          "text": "index"
         }
        }
       }
      }
     },
     "metadata": {},
     "output_type": "display_data"
    }
   ],
   "source": [
    "df3.plot(kind='bar',orientation = 'h')"
   ]
  },
  {
   "cell_type": "markdown",
   "metadata": {},
   "source": []
  },
  {
   "cell_type": "markdown",
   "metadata": {},
   "source": [
    "> Feature Evaluation"
   ]
  },
  {
   "cell_type": "code",
   "execution_count": 58,
   "metadata": {},
   "outputs": [
    {
     "data": {
      "text/html": [
       "<div>\n",
       "<style scoped>\n",
       "    .dataframe tbody tr th:only-of-type {\n",
       "        vertical-align: middle;\n",
       "    }\n",
       "\n",
       "    .dataframe tbody tr th {\n",
       "        vertical-align: top;\n",
       "    }\n",
       "\n",
       "    .dataframe thead th {\n",
       "        text-align: right;\n",
       "    }\n",
       "</style>\n",
       "<table border=\"1\" class=\"dataframe\">\n",
       "  <thead>\n",
       "    <tr style=\"text-align: right;\">\n",
       "      <th></th>\n",
       "      <th>Country</th>\n",
       "      <th>Alpha-2</th>\n",
       "      <th>Alpha-3</th>\n",
       "      <th>Continent</th>\n",
       "      <th>Anthem</th>\n",
       "      <th>removed_punct</th>\n",
       "      <th>tokens</th>\n",
       "      <th>clean_tokens</th>\n",
       "      <th>lemma_words</th>\n",
       "      <th>clean_text</th>\n",
       "      <th>...</th>\n",
       "      <th>disgust</th>\n",
       "      <th>fear</th>\n",
       "      <th>joy</th>\n",
       "      <th>sadness</th>\n",
       "      <th>surprise</th>\n",
       "      <th>trust</th>\n",
       "      <th>anticip</th>\n",
       "      <th>positive</th>\n",
       "      <th>negative</th>\n",
       "      <th>emotions</th>\n",
       "    </tr>\n",
       "  </thead>\n",
       "  <tbody>\n",
       "    <tr>\n",
       "      <th>0</th>\n",
       "      <td>Albania</td>\n",
       "      <td>AL</td>\n",
       "      <td>ALB</td>\n",
       "      <td>Europe</td>\n",
       "      <td>Around our flag we stand united, With one wish...</td>\n",
       "      <td>Around our flag we stand united With one wish ...</td>\n",
       "      <td>[around, our, flag, we, stand, united, with, o...</td>\n",
       "      <td>[around, flag, stand, united, one, wish, one, ...</td>\n",
       "      <td>[around, flag, stand, united, one, wish, one, ...</td>\n",
       "      <td>around flag stand united one wish one goal sac...</td>\n",
       "      <td>...</td>\n",
       "      <td>0.000255</td>\n",
       "      <td>0.002041</td>\n",
       "      <td>0.001276</td>\n",
       "      <td>0.000510</td>\n",
       "      <td>0.000510</td>\n",
       "      <td>0.002551</td>\n",
       "      <td>0.0</td>\n",
       "      <td>0.232143</td>\n",
       "      <td>0.125000</td>\n",
       "      <td>trust</td>\n",
       "    </tr>\n",
       "    <tr>\n",
       "      <th>1</th>\n",
       "      <td>Armenia</td>\n",
       "      <td>AM</td>\n",
       "      <td>ARM</td>\n",
       "      <td>Europe</td>\n",
       "      <td>Our Fatherland, free, independent, That has fo...</td>\n",
       "      <td>Our Fatherland free independent That has for c...</td>\n",
       "      <td>[our, fatherland, free, independent, that, has...</td>\n",
       "      <td>[fatherland, free, independent, centuries, liv...</td>\n",
       "      <td>[fatherland, free, independent, century, lived...</td>\n",
       "      <td>fatherland free independent century lived summ...</td>\n",
       "      <td>...</td>\n",
       "      <td>0.002442</td>\n",
       "      <td>0.002442</td>\n",
       "      <td>0.002442</td>\n",
       "      <td>0.001221</td>\n",
       "      <td>0.001221</td>\n",
       "      <td>0.003663</td>\n",
       "      <td>0.0</td>\n",
       "      <td>0.238095</td>\n",
       "      <td>0.095238</td>\n",
       "      <td>trust</td>\n",
       "    </tr>\n",
       "    <tr>\n",
       "      <th>2</th>\n",
       "      <td>Austria</td>\n",
       "      <td>AT</td>\n",
       "      <td>AUT</td>\n",
       "      <td>Europe</td>\n",
       "      <td>Land of mountains, land by the river, Land of ...</td>\n",
       "      <td>Land of mountains land by the river Land of fi...</td>\n",
       "      <td>[land, of, mountains, land, by, the, river, la...</td>\n",
       "      <td>[land, mountains, land, river, land, fields, l...</td>\n",
       "      <td>[land, mountain, land, river, land, field, lan...</td>\n",
       "      <td>land mountain land river land field land cathe...</td>\n",
       "      <td>...</td>\n",
       "      <td>0.000000</td>\n",
       "      <td>0.000000</td>\n",
       "      <td>0.002742</td>\n",
       "      <td>0.000392</td>\n",
       "      <td>0.000783</td>\n",
       "      <td>0.002350</td>\n",
       "      <td>0.0</td>\n",
       "      <td>0.486486</td>\n",
       "      <td>0.000000</td>\n",
       "      <td>joy</td>\n",
       "    </tr>\n",
       "    <tr>\n",
       "      <th>3</th>\n",
       "      <td>Azerbaijan</td>\n",
       "      <td>AZ</td>\n",
       "      <td>AZE</td>\n",
       "      <td>Europe</td>\n",
       "      <td>Azerbaijan, Azerbaijan! The glorious Fatherlan...</td>\n",
       "      <td>Azerbaijan Azerbaijan The glorious Fatherland ...</td>\n",
       "      <td>[azerbaijan, azerbaijan, the, glorious, father...</td>\n",
       "      <td>[azerbaijan, azerbaijan, glorious, fatherland,...</td>\n",
       "      <td>[azerbaijan, azerbaijan, glorious, fatherland,...</td>\n",
       "      <td>azerbaijan azerbaijan glorious fatherland valo...</td>\n",
       "      <td>...</td>\n",
       "      <td>0.000000</td>\n",
       "      <td>0.001063</td>\n",
       "      <td>0.001063</td>\n",
       "      <td>0.000709</td>\n",
       "      <td>0.000709</td>\n",
       "      <td>0.001772</td>\n",
       "      <td>0.0</td>\n",
       "      <td>0.235294</td>\n",
       "      <td>0.117647</td>\n",
       "      <td>trust</td>\n",
       "    </tr>\n",
       "    <tr>\n",
       "      <th>4</th>\n",
       "      <td>Belarus</td>\n",
       "      <td>BY</td>\n",
       "      <td>BLR</td>\n",
       "      <td>Europe</td>\n",
       "      <td>We, Belarusians, are peaceful people, Wholehea...</td>\n",
       "      <td>We Belarusians are peaceful people Wholehearte...</td>\n",
       "      <td>[we, belarusians, are, peaceful, people, whole...</td>\n",
       "      <td>[belarusians, peaceful, people, wholeheartedly...</td>\n",
       "      <td>[belarusian, peaceful, people, wholeheartedly,...</td>\n",
       "      <td>belarusian peaceful people wholeheartedly devo...</td>\n",
       "      <td>...</td>\n",
       "      <td>0.000000</td>\n",
       "      <td>0.000000</td>\n",
       "      <td>0.003023</td>\n",
       "      <td>0.000178</td>\n",
       "      <td>0.000178</td>\n",
       "      <td>0.002845</td>\n",
       "      <td>0.0</td>\n",
       "      <td>0.315789</td>\n",
       "      <td>0.026316</td>\n",
       "      <td>joy</td>\n",
       "    </tr>\n",
       "  </tbody>\n",
       "</table>\n",
       "<p>5 rows × 22 columns</p>\n",
       "</div>"
      ],
      "text/plain": [
       "      Country Alpha-2 Alpha-3 Continent  \\\n",
       "0     Albania      AL     ALB    Europe   \n",
       "1     Armenia      AM     ARM    Europe   \n",
       "2     Austria      AT     AUT    Europe   \n",
       "3  Azerbaijan      AZ     AZE    Europe   \n",
       "4     Belarus      BY     BLR    Europe   \n",
       "\n",
       "                                              Anthem  \\\n",
       "0  Around our flag we stand united, With one wish...   \n",
       "1  Our Fatherland, free, independent, That has fo...   \n",
       "2  Land of mountains, land by the river, Land of ...   \n",
       "3  Azerbaijan, Azerbaijan! The glorious Fatherlan...   \n",
       "4  We, Belarusians, are peaceful people, Wholehea...   \n",
       "\n",
       "                                       removed_punct  \\\n",
       "0  Around our flag we stand united With one wish ...   \n",
       "1  Our Fatherland free independent That has for c...   \n",
       "2  Land of mountains land by the river Land of fi...   \n",
       "3  Azerbaijan Azerbaijan The glorious Fatherland ...   \n",
       "4  We Belarusians are peaceful people Wholehearte...   \n",
       "\n",
       "                                              tokens  \\\n",
       "0  [around, our, flag, we, stand, united, with, o...   \n",
       "1  [our, fatherland, free, independent, that, has...   \n",
       "2  [land, of, mountains, land, by, the, river, la...   \n",
       "3  [azerbaijan, azerbaijan, the, glorious, father...   \n",
       "4  [we, belarusians, are, peaceful, people, whole...   \n",
       "\n",
       "                                        clean_tokens  \\\n",
       "0  [around, flag, stand, united, one, wish, one, ...   \n",
       "1  [fatherland, free, independent, centuries, liv...   \n",
       "2  [land, mountains, land, river, land, fields, l...   \n",
       "3  [azerbaijan, azerbaijan, glorious, fatherland,...   \n",
       "4  [belarusians, peaceful, people, wholeheartedly...   \n",
       "\n",
       "                                         lemma_words  \\\n",
       "0  [around, flag, stand, united, one, wish, one, ...   \n",
       "1  [fatherland, free, independent, century, lived...   \n",
       "2  [land, mountain, land, river, land, field, lan...   \n",
       "3  [azerbaijan, azerbaijan, glorious, fatherland,...   \n",
       "4  [belarusian, peaceful, people, wholeheartedly,...   \n",
       "\n",
       "                                          clean_text  ...   disgust      fear  \\\n",
       "0  around flag stand united one wish one goal sac...  ...  0.000255  0.002041   \n",
       "1  fatherland free independent century lived summ...  ...  0.002442  0.002442   \n",
       "2  land mountain land river land field land cathe...  ...  0.000000  0.000000   \n",
       "3  azerbaijan azerbaijan glorious fatherland valo...  ...  0.000000  0.001063   \n",
       "4  belarusian peaceful people wholeheartedly devo...  ...  0.000000  0.000000   \n",
       "\n",
       "        joy   sadness  surprise     trust  anticip  positive  negative  \\\n",
       "0  0.001276  0.000510  0.000510  0.002551      0.0  0.232143  0.125000   \n",
       "1  0.002442  0.001221  0.001221  0.003663      0.0  0.238095  0.095238   \n",
       "2  0.002742  0.000392  0.000783  0.002350      0.0  0.486486  0.000000   \n",
       "3  0.001063  0.000709  0.000709  0.001772      0.0  0.235294  0.117647   \n",
       "4  0.003023  0.000178  0.000178  0.002845      0.0  0.315789  0.026316   \n",
       "\n",
       "   emotions  \n",
       "0     trust  \n",
       "1     trust  \n",
       "2       joy  \n",
       "3     trust  \n",
       "4       joy  \n",
       "\n",
       "[5 rows x 22 columns]"
      ]
     },
     "execution_count": 58,
     "metadata": {},
     "output_type": "execute_result"
    }
   ],
   "source": [
    "df['emotions'] = df2.idxmax(axis=1)\n",
    "df.head()\n"
   ]
  },
  {
   "cell_type": "markdown",
   "metadata": {},
   "source": [
    ">Feature Extraction"
   ]
  },
  {
   "cell_type": "code",
   "execution_count": 59,
   "metadata": {},
   "outputs": [
    {
     "name": "stdout",
     "output_type": "stream",
     "text": [
      "               TF-IDF\n",
      "albania      0.296710\n",
      "sacred       0.269154\n",
      "fatherland   0.218237\n",
      "upon         0.189167\n",
      "flag         0.188978\n",
      "one          0.174110\n",
      "earth        0.173813\n",
      "man          0.173813\n",
      "named        0.148355\n",
      "wane         0.148355\n",
      "thrive       0.148355\n",
      "remembered   0.148355\n",
      "proclaimed   0.148355\n",
      "ll           0.148355\n",
      "relinquish   0.148355\n",
      "frightened   0.148355\n",
      "abstains     0.148355\n",
      "abrandished  0.148355\n",
      "sacrificed   0.148355\n",
      "saint        0.137534\n",
      "weã          0.137534\n",
      "bestow       0.137534\n",
      "dy           0.129857\n",
      "honoured     0.129857\n",
      "salvation    0.123902\n"
     ]
    },
    {
     "name": "stderr",
     "output_type": "stream",
     "text": [
      "d:\\Anaconda\\envs\\fyp\\lib\\site-packages\\sklearn\\utils\\deprecation.py:87: FutureWarning:\n",
      "\n",
      "Function get_feature_names is deprecated; get_feature_names is deprecated in 1.0 and will be removed in 1.2. Please use get_feature_names_out instead.\n",
      "\n"
     ]
    }
   ],
   "source": [
    "tfIdfVectorizer=TfidfVectorizer(use_idf=True)\n",
    "tfIdf = tfIdfVectorizer.fit_transform(df['clean_text'])\n",
    "df4 = pd.DataFrame(tfIdf[0].T.todense(), index=tfIdfVectorizer.get_feature_names(), columns=[\"TF-IDF\"])\n",
    "df4 = df4.sort_values(\"TF-IDF\",ascending=False)\n",
    "print (df4.head(25))"
   ]
  },
  {
   "cell_type": "code",
   "execution_count": 60,
   "metadata": {},
   "outputs": [
    {
     "name": "stdout",
     "output_type": "stream",
     "text": [
      "[[0.         0.         0.         ... 0.         0.         0.        ]\n",
      " [0.         0.         0.         ... 0.         0.         0.        ]\n",
      " [0.         0.         0.         ... 0.         0.         0.        ]\n",
      " ...\n",
      " [0.         0.09610554 0.         ... 0.         0.         0.        ]\n",
      " [0.         0.         0.         ... 0.         0.         0.        ]\n",
      " [0.         0.         0.         ... 0.         0.         0.        ]]\n"
     ]
    }
   ],
   "source": [
    "from sklearn.feature_extraction.text import TfidfVectorizer\n",
    "tfidf = TfidfVectorizer(ngram_range=(1,1)) #number of n-grams\n",
    "tfidf_vect = tfidf.fit_transform(df['clean_text'])\n",
    "dense = tfidf_vect.todense()\n",
    "print(dense)"
   ]
  },
  {
   "cell_type": "code",
   "execution_count": null,
   "metadata": {},
   "outputs": [],
   "source": []
  },
  {
   "cell_type": "code",
   "execution_count": null,
   "metadata": {},
   "outputs": [],
   "source": []
  },
  {
   "cell_type": "code",
   "execution_count": 61,
   "metadata": {},
   "outputs": [],
   "source": [
    "from sklearn.model_selection import train_test_split\n",
    "X_train,X_test,y_train,y_test = train_test_split(dense,df['emotions'])"
   ]
  },
  {
   "cell_type": "markdown",
   "metadata": {},
   "source": [
    ">Naive Bayes"
   ]
  },
  {
   "cell_type": "code",
   "execution_count": 62,
   "metadata": {},
   "outputs": [
    {
     "name": "stdout",
     "output_type": "stream",
     "text": [
      "['trust' 'trust' 'trust' 'trust' 'trust' 'trust' 'trust' 'trust' 'trust'\n",
      " 'trust' 'trust' 'trust' 'trust' 'trust' 'trust' 'trust' 'trust' 'trust'\n",
      " 'trust' 'trust' 'trust' 'trust' 'trust' 'trust' 'trust' 'trust' 'trust'\n",
      " 'trust' 'trust' 'trust' 'trust' 'trust' 'trust' 'trust' 'trust' 'trust'\n",
      " 'trust' 'trust' 'trust' 'trust' 'trust' 'trust' 'trust' 'trust' 'trust'\n",
      " 'trust' 'trust' 'trust']\n",
      "Naive Bayes Accuracy: 0.5833333333333334\n"
     ]
    },
    {
     "name": "stderr",
     "output_type": "stream",
     "text": [
      "d:\\Anaconda\\envs\\fyp\\lib\\site-packages\\sklearn\\utils\\validation.py:593: FutureWarning:\n",
      "\n",
      "np.matrix usage is deprecated in 1.0 and will raise a TypeError in 1.2. Please convert to a numpy array with np.asarray. For more information see: https://numpy.org/doc/stable/reference/generated/numpy.matrix.html\n",
      "\n",
      "d:\\Anaconda\\envs\\fyp\\lib\\site-packages\\sklearn\\utils\\validation.py:593: FutureWarning:\n",
      "\n",
      "np.matrix usage is deprecated in 1.0 and will raise a TypeError in 1.2. Please convert to a numpy array with np.asarray. For more information see: https://numpy.org/doc/stable/reference/generated/numpy.matrix.html\n",
      "\n",
      "d:\\Anaconda\\envs\\fyp\\lib\\site-packages\\sklearn\\utils\\validation.py:593: FutureWarning:\n",
      "\n",
      "np.matrix usage is deprecated in 1.0 and will raise a TypeError in 1.2. Please convert to a numpy array with np.asarray. For more information see: https://numpy.org/doc/stable/reference/generated/numpy.matrix.html\n",
      "\n"
     ]
    }
   ],
   "source": [
    "naive = naive_bayes.MultinomialNB()\n",
    "naive.fit(X_train,y_train) \n",
    " \n",
    "#Predicting output\n",
    "y_pred = naive.predict(X_test)\n",
    "print(y_pred)\n",
    "\n",
    "score = naive.score(X_test,y_test)\n",
    "print (\"Naive Bayes Accuracy:\", score)"
   ]
  },
  {
   "cell_type": "markdown",
   "metadata": {},
   "source": [
    ">Logistic Regression"
   ]
  },
  {
   "cell_type": "code",
   "execution_count": 63,
   "metadata": {},
   "outputs": [
    {
     "name": "stderr",
     "output_type": "stream",
     "text": [
      "d:\\Anaconda\\envs\\fyp\\lib\\site-packages\\sklearn\\utils\\validation.py:593: FutureWarning:\n",
      "\n",
      "np.matrix usage is deprecated in 1.0 and will raise a TypeError in 1.2. Please convert to a numpy array with np.asarray. For more information see: https://numpy.org/doc/stable/reference/generated/numpy.matrix.html\n",
      "\n",
      "d:\\Anaconda\\envs\\fyp\\lib\\site-packages\\sklearn\\utils\\validation.py:593: FutureWarning:\n",
      "\n",
      "np.matrix usage is deprecated in 1.0 and will raise a TypeError in 1.2. Please convert to a numpy array with np.asarray. For more information see: https://numpy.org/doc/stable/reference/generated/numpy.matrix.html\n",
      "\n",
      "d:\\Anaconda\\envs\\fyp\\lib\\site-packages\\sklearn\\utils\\validation.py:593: FutureWarning:\n",
      "\n",
      "np.matrix usage is deprecated in 1.0 and will raise a TypeError in 1.2. Please convert to a numpy array with np.asarray. For more information see: https://numpy.org/doc/stable/reference/generated/numpy.matrix.html\n",
      "\n"
     ]
    },
    {
     "name": "stdout",
     "output_type": "stream",
     "text": [
      "['trust' 'trust' 'trust' 'trust' 'trust' 'trust' 'trust' 'trust' 'trust'\n",
      " 'trust' 'trust' 'trust' 'trust' 'trust' 'trust' 'trust' 'trust' 'trust'\n",
      " 'trust' 'trust' 'trust' 'trust' 'trust' 'trust' 'trust' 'trust' 'trust'\n",
      " 'trust' 'trust' 'trust' 'trust' 'trust' 'trust' 'trust' 'trust' 'trust'\n",
      " 'trust' 'trust' 'trust' 'trust' 'trust' 'trust' 'trust' 'trust' 'trust'\n",
      " 'trust' 'trust' 'trust']\n",
      "Logistic Regression Accuracy: 0.5833333333333334\n"
     ]
    }
   ],
   "source": [
    "from sklearn.linear_model import LogisticRegression\n",
    "\n",
    "lr = LogisticRegression()\n",
    "lr.fit(X_train,y_train) \n",
    " \n",
    "#Predicting output\n",
    "y_pred = lr.predict(X_test)\n",
    "print(y_pred)\n",
    "\n",
    "score = lr.score(X_test,y_test)\n",
    "print (\"Logistic Regression Accuracy:\", score)"
   ]
  },
  {
   "cell_type": "code",
   "execution_count": 64,
   "metadata": {},
   "outputs": [
    {
     "name": "stdout",
     "output_type": "stream",
     "text": [
      "              precision    recall  f1-score   support\n",
      "\n",
      "       anger       0.00      0.00      0.00         3\n",
      "anticipation       0.00      0.00      0.00         5\n",
      "        fear       0.00      0.00      0.00         2\n",
      "         joy       0.00      0.00      0.00        10\n",
      "       trust       0.58      1.00      0.74        28\n",
      "\n",
      "    accuracy                           0.58        48\n",
      "   macro avg       0.12      0.20      0.15        48\n",
      "weighted avg       0.34      0.58      0.43        48\n",
      "\n"
     ]
    },
    {
     "name": "stderr",
     "output_type": "stream",
     "text": [
      "d:\\Anaconda\\envs\\fyp\\lib\\site-packages\\sklearn\\metrics\\_classification.py:1318: UndefinedMetricWarning:\n",
      "\n",
      "Precision and F-score are ill-defined and being set to 0.0 in labels with no predicted samples. Use `zero_division` parameter to control this behavior.\n",
      "\n",
      "d:\\Anaconda\\envs\\fyp\\lib\\site-packages\\sklearn\\metrics\\_classification.py:1318: UndefinedMetricWarning:\n",
      "\n",
      "Precision and F-score are ill-defined and being set to 0.0 in labels with no predicted samples. Use `zero_division` parameter to control this behavior.\n",
      "\n",
      "d:\\Anaconda\\envs\\fyp\\lib\\site-packages\\sklearn\\metrics\\_classification.py:1318: UndefinedMetricWarning:\n",
      "\n",
      "Precision and F-score are ill-defined and being set to 0.0 in labels with no predicted samples. Use `zero_division` parameter to control this behavior.\n",
      "\n"
     ]
    }
   ],
   "source": [
    "from sklearn.metrics import classification_report\n",
    "print(classification_report(y_test,y_pred))"
   ]
  },
  {
   "cell_type": "markdown",
   "metadata": {},
   "source": [
    ">Random Forest Classifier"
   ]
  },
  {
   "cell_type": "code",
   "execution_count": 65,
   "metadata": {},
   "outputs": [
    {
     "name": "stderr",
     "output_type": "stream",
     "text": [
      "d:\\Anaconda\\envs\\fyp\\lib\\site-packages\\sklearn\\utils\\validation.py:593: FutureWarning:\n",
      "\n",
      "np.matrix usage is deprecated in 1.0 and will raise a TypeError in 1.2. Please convert to a numpy array with np.asarray. For more information see: https://numpy.org/doc/stable/reference/generated/numpy.matrix.html\n",
      "\n"
     ]
    },
    {
     "name": "stdout",
     "output_type": "stream",
     "text": [
      "['trust' 'trust' 'trust' 'trust' 'trust' 'trust' 'trust' 'trust' 'trust'\n",
      " 'trust' 'trust' 'trust' 'trust' 'trust' 'trust' 'trust' 'trust' 'trust'\n",
      " 'trust' 'trust' 'trust' 'trust' 'trust' 'trust' 'trust' 'trust' 'trust'\n",
      " 'trust' 'trust' 'trust' 'trust' 'trust' 'trust' 'trust' 'trust' 'trust'\n",
      " 'trust' 'trust' 'trust' 'trust' 'trust' 'anger' 'trust' 'trust' 'trust'\n",
      " 'trust' 'trust' 'trust']\n",
      "Random Forest Classifier Accuracy: 0.6041666666666666\n"
     ]
    },
    {
     "name": "stderr",
     "output_type": "stream",
     "text": [
      "d:\\Anaconda\\envs\\fyp\\lib\\site-packages\\sklearn\\utils\\validation.py:593: FutureWarning:\n",
      "\n",
      "np.matrix usage is deprecated in 1.0 and will raise a TypeError in 1.2. Please convert to a numpy array with np.asarray. For more information see: https://numpy.org/doc/stable/reference/generated/numpy.matrix.html\n",
      "\n",
      "d:\\Anaconda\\envs\\fyp\\lib\\site-packages\\sklearn\\utils\\validation.py:593: FutureWarning:\n",
      "\n",
      "np.matrix usage is deprecated in 1.0 and will raise a TypeError in 1.2. Please convert to a numpy array with np.asarray. For more information see: https://numpy.org/doc/stable/reference/generated/numpy.matrix.html\n",
      "\n"
     ]
    }
   ],
   "source": [
    "from sklearn.ensemble import RandomForestClassifier\n",
    "\n",
    "rfc = RandomForestClassifier()\n",
    "rfc.fit(X_train,y_train) \n",
    " \n",
    "#Predicting output\n",
    "y_pred = rfc.predict(X_test)\n",
    "print(y_pred)\n",
    "\n",
    "score = rfc.score(X_test,y_test)\n",
    "print (\"Random Forest Classifier Accuracy:\", score)"
   ]
  },
  {
   "cell_type": "markdown",
   "metadata": {},
   "source": [
    "> SVM"
   ]
  },
  {
   "cell_type": "code",
   "execution_count": 66,
   "metadata": {},
   "outputs": [
    {
     "name": "stdout",
     "output_type": "stream",
     "text": [
      "['trust' 'trust' 'trust' 'trust' 'trust' 'trust' 'trust' 'trust' 'trust'\n",
      " 'trust' 'trust' 'trust' 'trust' 'trust' 'trust' 'trust' 'trust' 'trust'\n",
      " 'trust' 'trust' 'trust' 'trust' 'trust' 'trust' 'trust' 'trust' 'trust'\n",
      " 'trust' 'trust' 'trust' 'trust' 'trust' 'trust' 'trust' 'trust' 'trust'\n",
      " 'trust' 'trust' 'trust' 'trust' 'trust' 'trust' 'trust' 'trust' 'trust'\n",
      " 'trust' 'trust' 'trust']\n",
      "SVM Accuracy: 0.5833333333333334\n"
     ]
    },
    {
     "name": "stderr",
     "output_type": "stream",
     "text": [
      "d:\\Anaconda\\envs\\fyp\\lib\\site-packages\\sklearn\\utils\\validation.py:593: FutureWarning:\n",
      "\n",
      "np.matrix usage is deprecated in 1.0 and will raise a TypeError in 1.2. Please convert to a numpy array with np.asarray. For more information see: https://numpy.org/doc/stable/reference/generated/numpy.matrix.html\n",
      "\n",
      "d:\\Anaconda\\envs\\fyp\\lib\\site-packages\\sklearn\\utils\\validation.py:593: FutureWarning:\n",
      "\n",
      "np.matrix usage is deprecated in 1.0 and will raise a TypeError in 1.2. Please convert to a numpy array with np.asarray. For more information see: https://numpy.org/doc/stable/reference/generated/numpy.matrix.html\n",
      "\n",
      "d:\\Anaconda\\envs\\fyp\\lib\\site-packages\\sklearn\\utils\\validation.py:593: FutureWarning:\n",
      "\n",
      "np.matrix usage is deprecated in 1.0 and will raise a TypeError in 1.2. Please convert to a numpy array with np.asarray. For more information see: https://numpy.org/doc/stable/reference/generated/numpy.matrix.html\n",
      "\n"
     ]
    }
   ],
   "source": [
    "SVM = svm.SVC(C=1.0 , kernel='linear', degree = 3 , gamma ='auto')\n",
    "SVM = SVM.fit(X_train,y_train)\n",
    "\n",
    "#Predicting output\n",
    "y_pred = SVM.predict(X_test)\n",
    "print(y_pred)\n",
    "\n",
    "score = SVM.score(X_test,y_test)\n",
    "print (\"SVM Accuracy:\", score)"
   ]
  },
  {
   "cell_type": "code",
   "execution_count": 67,
   "metadata": {},
   "outputs": [
    {
     "name": "stdout",
     "output_type": "stream",
     "text": [
      "              precision    recall  f1-score   support\n",
      "\n",
      "       anger       0.00      0.00      0.00         3\n",
      "anticipation       0.00      0.00      0.00         5\n",
      "        fear       0.00      0.00      0.00         2\n",
      "         joy       0.00      0.00      0.00        10\n",
      "       trust       0.58      1.00      0.74        28\n",
      "\n",
      "    accuracy                           0.58        48\n",
      "   macro avg       0.12      0.20      0.15        48\n",
      "weighted avg       0.34      0.58      0.43        48\n",
      "\n"
     ]
    },
    {
     "name": "stderr",
     "output_type": "stream",
     "text": [
      "d:\\Anaconda\\envs\\fyp\\lib\\site-packages\\sklearn\\metrics\\_classification.py:1318: UndefinedMetricWarning:\n",
      "\n",
      "Precision and F-score are ill-defined and being set to 0.0 in labels with no predicted samples. Use `zero_division` parameter to control this behavior.\n",
      "\n",
      "d:\\Anaconda\\envs\\fyp\\lib\\site-packages\\sklearn\\metrics\\_classification.py:1318: UndefinedMetricWarning:\n",
      "\n",
      "Precision and F-score are ill-defined and being set to 0.0 in labels with no predicted samples. Use `zero_division` parameter to control this behavior.\n",
      "\n",
      "d:\\Anaconda\\envs\\fyp\\lib\\site-packages\\sklearn\\metrics\\_classification.py:1318: UndefinedMetricWarning:\n",
      "\n",
      "Precision and F-score are ill-defined and being set to 0.0 in labels with no predicted samples. Use `zero_division` parameter to control this behavior.\n",
      "\n"
     ]
    }
   ],
   "source": [
    "print(classification_report(y_test,y_pred))"
   ]
  },
  {
   "cell_type": "code",
   "execution_count": 68,
   "metadata": {},
   "outputs": [
    {
     "data": {
      "image/png": "[encoded data removed]",
      "text/plain": [
       "<Figure size 360x288 with 2 Axes>"
      ]
     },
     "metadata": {
      "needs_background": "light"
     },
     "output_type": "display_data"
    }
   ],
   "source": [
    "from sklearn.metrics import confusion_matrix\n",
    "\n",
    "conf = confusion_matrix(y_test,y_pred)\n",
    "# Creating a dataframe for a array-formatted Confusion matrix,so it will be easy for plotting.\n",
    "confusion = pd.DataFrame(conf,  index = ['anger','anticipation','fear','joy','trust'], \n",
    "                     columns = ['anger','anticipation','fear','joy','trust'])\n",
    "                   \n",
    "\n",
    "#Plotting the confusion matrix\n",
    "plt.figure(figsize=(5,4))\n",
    "sns.heatmap(confusion, annot=True, cmap=\"YlGnBu\")\n",
    "plt.title('Confusion Matrix')\n",
    "plt.ylabel('Actual Values')\n",
    "plt.xlabel('Predicted Values')\n",
    "plt.show()"
   ]
  }
 ],
 "metadata": {
  "kernelspec": {
   "display_name": "Python 3.10.4 ('fyp')",
   "language": "python",
   "name": "python3"
  },
  "language_info": {
   "codemirror_mode": {
    "name": "ipython",
    "version": 3
   },
   "file_extension": ".py",
   "mimetype": "text/x-python",
   "name": "python",
   "nbconvert_exporter": "python",
   "pygments_lexer": "ipython3",
   "version": "3.10.4"
  },
  "orig_nbformat": 4,
  "vscode": {
   "interpreter": {
    "hash": "7f321279a910315be09184a7979284bded1861ebe2467ab7be255e539509b14f"
   }
  }
 },
 "nbformat": 4,
 "nbformat_minor": 2
}
